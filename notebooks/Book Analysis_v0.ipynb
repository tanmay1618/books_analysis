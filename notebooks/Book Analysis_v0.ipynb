{
 "cells": [
  {
   "cell_type": "code",
   "execution_count": 53,
   "id": "a5e51ea7-980b-44a2-b8d2-4daf0d051b75",
   "metadata": {},
   "outputs": [],
   "source": [
    "from pyspark.sql import SparkSession"
   ]
  },
  {
   "cell_type": "code",
   "execution_count": 54,
   "id": "60fe51bd-8f87-4770-9856-cf43caf5f2d8",
   "metadata": {},
   "outputs": [],
   "source": [
    "from pyspark.sql.functions import col"
   ]
  },
  {
   "cell_type": "code",
   "execution_count": 65,
   "id": "890ebf4b-981f-4259-ae15-3cf377b1151f",
   "metadata": {},
   "outputs": [],
   "source": [
    "from pyspark.sql.types import StructType, StringType, IntegerType, FloatType, StructField"
   ]
  },
  {
   "cell_type": "code",
   "execution_count": 55,
   "id": "785a9714-2751-434d-a41c-b62a5859f391",
   "metadata": {},
   "outputs": [],
   "source": [
    "spark = SparkSession.builder \\\n",
    "    .appName(\"Book Analysis\") \\\n",
    "    .getOrCreate()"
   ]
  },
  {
   "cell_type": "code",
   "execution_count": 104,
   "id": "c99d42fc-e97e-4410-924b-9066205d8aeb",
   "metadata": {},
   "outputs": [],
   "source": [
    "custom_schema = StructType([\n",
    "    StructField(\"_co\", IntegerType(), True),\n",
    "    StructField(\"Title\", StringType(), True, {\"escape\": \",\"}),\n",
    "    StructField(\"description\", StringType(), True, {\"escape\": \"\\\"\\\"\"}),\n",
    "    StructField(\"authors\", StringType(), True, {\"escape\": \",\"}),\n",
    "    StructField(\"publishers\", StringType(), True, {\"escape\": \",\"}),\n",
    "    StructField(\"publishedDate\", StringType(), True, {\"escape\": \",\"}),\n",
    "    StructField(\"categories\", StringType(), True, {\"escape\": \",\"}),\n",
    "    StructField(\"Impact\", FloatType(), True)\n",
    "    # Add more fields as needed\n",
    "])"
   ]
  },
  {
   "cell_type": "code",
   "execution_count": 98,
   "id": "1efa8c7e-f5aa-421b-b75d-85e8bcab0948",
   "metadata": {},
   "outputs": [],
   "source": [
    "df = spark.read.csv(\"books_task.csv\", header=True, schema=custom_schema)"
   ]
  },
  {
   "cell_type": "code",
   "execution_count": 111,
   "id": "b2ac8dbc-a7ab-4d01-9ce7-87ca86d83dd5",
   "metadata": {},
   "outputs": [
    {
     "name": "stdout",
     "output_type": "stream",
     "text": [
      "root\n",
      " |-- _c0: string (nullable = true)\n",
      " |-- Title: string (nullable = true)\n",
      " |-- description: string (nullable = true)\n",
      " |-- authors: string (nullable = true)\n",
      " |-- publisher: string (nullable = true)\n",
      " |-- publishedDate: string (nullable = true)\n",
      " |-- categories: string (nullable = true)\n",
      " |-- Impact: string (nullable = true)\n",
      "\n"
     ]
    }
   ],
   "source": [
    "df.printSchema()"
   ]
  },
  {
   "cell_type": "code",
   "execution_count": 112,
   "id": "ff2448ed-b6b3-4ac1-9df3-dcb963662719",
   "metadata": {},
   "outputs": [
    {
     "name": "stderr",
     "output_type": "stream",
     "text": [
      "24/04/21 09:41:47 WARN CSVHeaderChecker: CSV header does not conform to the schema.\n",
      " Header: , Title, description, authors, publisher, publishedDate, categories, Impact\n",
      " Schema: _c0, Title, description, authors, publisher, publishedDate, categories, Impact\n",
      "Expected: _c0 but found: \n",
      "CSV file: file:///home/tanmay/Documents/highlevel/books_task.csv\n"
     ]
    },
    {
     "name": "stdout",
     "output_type": "stream",
     "text": [
      "+----+-------------+--------------------+--------------------+--------------------+-------------+----------+-----------------+\n",
      "| _c0|        Title|         description|             authors|           publisher|publishedDate|categories|           Impact|\n",
      "+----+-------------+--------------------+--------------------+--------------------+-------------+----------+-----------------+\n",
      "|2521|Tuneful tales|As enigmatic and ...|['Bernice Love Wi...|Texas Tech Univer...|         2002|['Poetry']|805.5685400829483|\n",
      "+----+-------------+--------------------+--------------------+--------------------+-------------+----------+-----------------+\n",
      "\n"
     ]
    }
   ],
   "source": [
    "df.filter(df[\"_c0\"] == 2521).show()"
   ]
  },
  {
   "cell_type": "code",
   "execution_count": 109,
   "id": "4f63b4f2-1b60-4911-b2d6-2ef4c8356053",
   "metadata": {},
   "outputs": [],
   "source": [
    "df = spark.read.option(\"header\", \"true\").option(\"delimiter\", \",\").option(\"quote\", \"\\\"\").option(\"escape\", \"\\\"\").csv(\"books_task.csv\")"
   ]
  },
  {
   "cell_type": "code",
   "execution_count": 76,
   "id": "cc0fa9fa-8c9e-4fd4-bfad-38723df1e4ec",
   "metadata": {},
   "outputs": [
    {
     "name": "stdout",
     "output_type": "stream",
     "text": [
      "+--------------------+\n",
      "|             authors|\n",
      "+--------------------+\n",
      "|    ['Donald Cline']|\n",
      "|     ['Dian Layton']|\n",
      "|       ['Kotoyama,']|\n",
      "|   ['Joseph Kerman']|\n",
      "|     ['Kay Flowers']|\n",
      "|\"\" To a very stro...|\n",
      "|['I. Ristic', 'Ia...|\n",
      "|['Andrew P. Tobias']|\n",
      "|['Judith Ennamora...|\n",
      "|['Jamgon Kongtrul...|\n",
      "|['Frank Miller', ...|\n",
      "|['National Resear...|\n",
      "| all of whom were...|\n",
      "|      ['Max Fogiel']|\n",
      "|      ['Jules Bass']|\n",
      "|  ['Rebecca Harvin']|\n",
      "|  ['Sylvia Abraham']|\n",
      "|   ['Jacques Ellul']|\n",
      "|    ['Kevin Foster']|\n",
      "|['Ana Jarvis', 'R...|\n",
      "+--------------------+\n",
      "only showing top 20 rows\n",
      "\n"
     ]
    }
   ],
   "source": [
    "df.select('authors').distinct().show()"
   ]
  },
  {
   "cell_type": "code",
   "execution_count": 57,
   "id": "3080d459-0795-49b6-9765-ef148be5d4f5",
   "metadata": {},
   "outputs": [],
   "source": [
    "df = spark.read.csv(\"books_task.csv\", sep=',', inferSchema=True, quote = '\"', header=True)"
   ]
  },
  {
   "cell_type": "code",
   "execution_count": 58,
   "id": "101eeaf0-18b2-4a97-ab18-2982632a0275",
   "metadata": {},
   "outputs": [
    {
     "name": "stdout",
     "output_type": "stream",
     "text": [
      "root\n",
      " |-- _c0: integer (nullable = true)\n",
      " |-- Title: string (nullable = true)\n",
      " |-- description: string (nullable = true)\n",
      " |-- authors: string (nullable = true)\n",
      " |-- publisher: string (nullable = true)\n",
      " |-- publishedDate: string (nullable = true)\n",
      " |-- categories: string (nullable = true)\n",
      " |-- Impact: string (nullable = true)\n",
      "\n"
     ]
    }
   ],
   "source": [
    "df.printSchema()"
   ]
  },
  {
   "cell_type": "code",
   "execution_count": 59,
   "id": "42e6d5ba-e4d7-44b4-a2e6-730295f536f8",
   "metadata": {
    "scrolled": true
   },
   "outputs": [
    {
     "name": "stdout",
     "output_type": "stream",
     "text": [
      "+---+--------------------+--------------------+--------------------+--------------------+--------------------+--------------------+--------------------+\n",
      "|_c0|               Title|         description|             authors|           publisher|       publishedDate|          categories|              Impact|\n",
      "+---+--------------------+--------------------+--------------------+--------------------+--------------------+--------------------+--------------------+\n",
      "|  0|Its Only Art If I...|                null|    ['Julie Strain']|Smithsonian Insti...|                1996|['Comics & Graphi...|   784.3039243054303|\n",
      "|  1|Dr. Seuss: Americ...|\"Philip Nel takes...| like that of Lew...| has changed lang...| giving us new wo...| inspiring artist...|      ['Philip Nel']|\n",
      "|  2|Wonderful Worship...|This resource inc...|    ['David R. Ray']|             OUP USA|                2000|        ['Religion']|   841.7053210126119|\n",
      "|  3|Whispers of the W...|Julia Thomas find...| ['Veronica Haddon']|           iUniverse|             2005-02|         ['Fiction']|   666.4265418233589|\n",
      "|  5|The Church of Chr...|In The Church of ...|['Everett Ferguson']|Wm. B. Eerdmans P...|                1996|        ['Religion']|   806.2161426995721|\n",
      "|  8|Saint Hyacinth of...|The story for chi...|['Mary Fabyan Win...|     Tan Books & Pub|          2009-01-01|['Biography & Aut...|   799.1626097737924|\n",
      "|  9|Rising Sons and D...|Wardell recalls h...|  ['Steven Wardell']|  Plympton PressIntl|                1995|  ['Social Science']|   793.5048996688412|\n",
      "| 10|Muslim Women's Ch...|Counters the West...|['Camillia Fawzi ...|    Berg Pub Limited|          1994-02-17|        ['Religion']|   759.2711582939609|\n",
      "| 11|Dramatica for Scr...|Dramatica for Scr...|['Armando Salda A...|             OUP USA|             2005-07|       ['Reference']|   847.0213715319953|\n",
      "| 12|Mensa Number Puzz...|Acclaimed teacher...|['Evelyn B. Chris...|            Sky Pony|          2018-11-06|['Juvenile Nonfic...|   759.2711582939609|\n",
      "| 13|Vector Quantizati...|\"Herb Caen, a pop...| but the statemen...|              i. e. | data compression...|               audio|              images|\n",
      "| 14|A husband for Kutani|First published i...|      ['Frank Owen']|Pickle Partners P...|          2018-02-27|         ['History']|   805.5685400829483|\n",
      "| 16|\"The Ultimate Gui...|This collection b...|    ['Fiona Cownie']|Bloomsbury Publis...|          2010-01-28|             ['Law']|    715.333258667078|\n",
      "| 17|The Repeal of Ret...|\"At a time when A...|       sex educators| and novelists—fr...| Gurstein offers ...|['Rochelle Gurste...|       Hill and Wang|\n",
      "| 18|Overcoming Hypert...|Like a time bomb ...|['Kenneth H. Coop...|              Bantam|          2012-02-01|['Health & Fitness']|   805.5685400829483|\n",
      "| 19|    Alaska Sourdough|\"\"\"Sourdough is a...| as author Ruth A...| this book includ...| three days to on...| there are more t...| loads of time-te...|\n",
      "| 20|The Oxford Handbo...|A guide to curren...|     ['Robert Kane']|             OUP USA|          2011-07-27|      ['Philosophy']|   831.0666668926963|\n",
      "| 21|Eyewitness Travel...|The DK Eyewitness...|['Dorling Kinders...|Smithsonian Insti...|          2015-06-15|          ['Europe']|   787.1883918642411|\n",
      "| 22|Hunting The Hard Way|Thrilling stories...|     ['Howard Hill']|     Derrydale Press|          2000-04-26|['Sports & Recrea...|   866.5822716179268|\n",
      "| 23|History of Magic ...|\"See the history ...| such as mandrake...|         key figures|         key deities|       use in spells| structures of re...|\n",
      "+---+--------------------+--------------------+--------------------+--------------------+--------------------+--------------------+--------------------+\n",
      "only showing top 20 rows\n",
      "\n"
     ]
    },
    {
     "name": "stderr",
     "output_type": "stream",
     "text": [
      "24/04/21 09:22:49 WARN CSVHeaderChecker: CSV header does not conform to the schema.\n",
      " Header: , Title, description, authors, publisher, publishedDate, categories, Impact\n",
      " Schema: _c0, Title, description, authors, publisher, publishedDate, categories, Impact\n",
      "Expected: _c0 but found: \n",
      "CSV file: file:///home/tanmay/Documents/highlevel/books_task.csv\n"
     ]
    }
   ],
   "source": [
    "df.show()"
   ]
  },
  {
   "cell_type": "code",
   "execution_count": 60,
   "id": "6844f8a1-0e99-479b-89e7-ef04d175620b",
   "metadata": {},
   "outputs": [
    {
     "data": {
      "text/plain": [
       "138724"
      ]
     },
     "execution_count": 60,
     "metadata": {},
     "output_type": "execute_result"
    }
   ],
   "source": [
    "df.count()"
   ]
  },
  {
   "cell_type": "code",
   "execution_count": 61,
   "id": "33b389b5-3750-46be-9d62-848c43c1e5bb",
   "metadata": {},
   "outputs": [
    {
     "name": "stdout",
     "output_type": "stream",
     "text": [
      "+--------------------+\n",
      "|              Impact|\n",
      "+--------------------+\n",
      "|   743.7950449946484|\n",
      "|   839.3731438824466|\n",
      "|   718.3721985226707|\n",
      "|   906.2100605165298|\n",
      "|   672.2811823572971|\n",
      "| diagrammatic gui...|\n",
      "|   832.7099694825474|\n",
      "|          2019-08-22|\n",
      "|   810.7406296343943|\n",
      "|             Tolstoy|\n",
      "| story board exce...|\n",
      "|        spirituality|\n",
      "|   802.3051376732733|\n",
      "| and shows the tr...|\n",
      "| the \"\"disastrous...|\n",
      "|   869.4545794266415|\n",
      "| and the radical ...|\n",
      "| Mary Madigan sad...|\n",
      "|   843.1325776250586|\n",
      "|   552.7999873000787|\n",
      "+--------------------+\n",
      "only showing top 20 rows\n",
      "\n"
     ]
    }
   ],
   "source": [
    "df.select('Impact').distinct().show()"
   ]
  },
  {
   "cell_type": "code",
   "execution_count": 12,
   "id": "74350a2d-ff3e-4cf4-85b2-add23395cb0d",
   "metadata": {},
   "outputs": [
    {
     "name": "stdout",
     "output_type": "stream",
     "text": [
      "+---+------------------------------+-----------+----------------+-----------------------+-------------+---------------------------+-----------------+\n",
      "|_c0|Title                         |description|authors         |publisher              |publishedDate|categories                 |Impact           |\n",
      "+---+------------------------------+-----------+----------------+-----------------------+-------------+---------------------------+-----------------+\n",
      "|0  |Its Only Art If Its Well Hung!|null       |['Julie Strain']|Smithsonian Institution|1996         |['Comics & Graphic Novels']|784.3039243054303|\n",
      "+---+------------------------------+-----------+----------------+-----------------------+-------------+---------------------------+-----------------+\n",
      "only showing top 1 row\n",
      "\n"
     ]
    },
    {
     "name": "stderr",
     "output_type": "stream",
     "text": [
      "24/04/21 08:59:19 WARN CSVHeaderChecker: CSV header does not conform to the schema.\n",
      " Header: , Title, description, authors, publisher, publishedDate, categories, Impact\n",
      " Schema: _c0, Title, description, authors, publisher, publishedDate, categories, Impact\n",
      "Expected: _c0 but found: \n",
      "CSV file: file:///home/tanmay/Documents/highlevel/books_task.csv\n"
     ]
    }
   ],
   "source": [
    "df.show(1,0)"
   ]
  },
  {
   "cell_type": "code",
   "execution_count": 21,
   "id": "13244bde-934b-462e-9dcf-fb1bd4568c91",
   "metadata": {},
   "outputs": [],
   "source": [
    "numeric_check_df = df.filter(col(\"Impact\").cast(\"float\").isNotNull())"
   ]
  },
  {
   "cell_type": "code",
   "execution_count": 24,
   "id": "138dd611-66de-4ebd-a3ff-25bf969e5ba4",
   "metadata": {},
   "outputs": [
    {
     "data": {
      "text/plain": [
       "120484"
      ]
     },
     "execution_count": 24,
     "metadata": {},
     "output_type": "execute_result"
    }
   ],
   "source": [
    "numeric_check_df.count()"
   ]
  },
  {
   "cell_type": "code",
   "execution_count": 29,
   "id": "599dab8f-e991-4bb0-a5d9-4e630c454032",
   "metadata": {},
   "outputs": [],
   "source": [
    "numeric_check_df = df.filter(col(\"publishedDate\").cast(\"float\").isNull())"
   ]
  },
  {
   "cell_type": "code",
   "execution_count": 30,
   "id": "d63f31c4-5396-49ba-b164-a11ea7c17a46",
   "metadata": {},
   "outputs": [
    {
     "data": {
      "text/plain": [
       "89856"
      ]
     },
     "execution_count": 30,
     "metadata": {},
     "output_type": "execute_result"
    }
   ],
   "source": [
    "numeric_check_df.count()"
   ]
  },
  {
   "cell_type": "code",
   "execution_count": 31,
   "id": "2cd0a005-4d82-47d7-9e5f-262428d8e3b3",
   "metadata": {},
   "outputs": [
    {
     "name": "stdout",
     "output_type": "stream",
     "text": [
      "+--------------------+\n",
      "|       publishedDate|\n",
      "+--------------------+\n",
      "|          2007-03-06|\n",
      "|          2016-08-17|\n",
      "|          1994-03-01|\n",
      "|          2003-11-06|\n",
      "|          1999-11-18|\n",
      "|          1992-07-31|\n",
      "|   'Mark S. Freed']\"|\n",
      "|          2013-03-14|\n",
      "| it is written fo...|\n",
      "|             Inc.\"\"\"|\n",
      "|          2015-05-01|\n",
      "|    biblical imagery|\n",
      "|             1999-10|\n",
      "| bioentrepreneurs...|\n",
      "|          2014-05-27|\n",
      "|          2009-06-23|\n",
      "|          2008-11-19|\n",
      "| a woman who was ...|\n",
      "| a place where yo...|\n",
      "|          2008-12-03|\n",
      "+--------------------+\n",
      "only showing top 20 rows\n",
      "\n"
     ]
    }
   ],
   "source": [
    "numeric_check_df.select('publishedDate').distinct().show()"
   ]
  },
  {
   "cell_type": "code",
   "execution_count": 33,
   "id": "f2c4f92f-adaa-4d2f-b071-c36227998376",
   "metadata": {},
   "outputs": [],
   "source": [
    "regex_pattern = \"^\\d{4}-\\d{2}-\\d{2}$\""
   ]
  },
  {
   "cell_type": "code",
   "execution_count": 35,
   "id": "97b8f192-14db-4500-b486-e4946fe2d0e5",
   "metadata": {},
   "outputs": [],
   "source": [
    "regex_check_df = df.filter(col(\"publishedDate\").rlike(regex_pattern))"
   ]
  },
  {
   "cell_type": "code",
   "execution_count": 49,
   "id": "ed348b95-d83b-49b5-80d1-57264029afcf",
   "metadata": {},
   "outputs": [],
   "source": [
    "df.select('categories').distinct().toPandas().to_csv(\"unique_category.csv\")"
   ]
  },
  {
   "cell_type": "code",
   "execution_count": 45,
   "id": "dfd8d36d-3635-4e3f-bc9b-f30edd713700",
   "metadata": {},
   "outputs": [],
   "source": [
    "import pandas as pd"
   ]
  },
  {
   "cell_type": "code",
   "execution_count": 46,
   "id": "c9099208-fbd7-43d4-8dc8-43f9fac9a05e",
   "metadata": {},
   "outputs": [],
   "source": [
    "data = pd.read_csv(\"unique_publisher.csv\")"
   ]
  },
  {
   "cell_type": "code",
   "execution_count": 48,
   "id": "e1adec28-90cc-4ab9-a32b-fa06d10fbce6",
   "metadata": {},
   "outputs": [
    {
     "ename": "NameError",
     "evalue": "name 'unique_publisher' is not defined",
     "output_type": "error",
     "traceback": [
      "\u001b[0;31m---------------------------------------------------------------------------\u001b[0m",
      "\u001b[0;31mNameError\u001b[0m                                 Traceback (most recent call last)",
      "Cell \u001b[0;32mIn[48], line 1\u001b[0m\n\u001b[0;32m----> 1\u001b[0m \u001b[38;5;28mopen\u001b[39m(\u001b[43munique_publisher\u001b[49m\u001b[38;5;241m.\u001b[39mcsv)\n",
      "\u001b[0;31mNameError\u001b[0m: name 'unique_publisher' is not defined"
     ]
    }
   ],
   "source": [
    "open(unique_publisher.csv)"
   ]
  },
  {
   "cell_type": "code",
   "execution_count": 50,
   "id": "3391ed0d-1751-46f3-9f3c-6036bb779093",
   "metadata": {},
   "outputs": [],
   "source": [
    "def get_string_length(x):\n",
    "    return len(x)"
   ]
  },
  {
   "cell_type": "code",
   "execution_count": 51,
   "id": "4ea4b917-ee43-45e5-bf7b-b6ff21a7f5fd",
   "metadata": {},
   "outputs": [
    {
     "data": {
      "text/plain": [
       "<function __main__.get_string_length(x)>"
      ]
     },
     "execution_count": 51,
     "metadata": {},
     "output_type": "execute_result"
    }
   ],
   "source": [
    "spark.udf.register(\"string_length_udf\", get_string_length)"
   ]
  },
  {
   "cell_type": "code",
   "execution_count": null,
   "id": "dd1f8bad-5b9a-49af-9c5c-f2ab04f32282",
   "metadata": {},
   "outputs": [],
   "source": [
    "df_length = df.withColumn(\"\", spark.sql(\"double_age_udf(Age)\"))"
   ]
  }
 ],
 "metadata": {
  "kernelspec": {
   "display_name": "Python 3 (ipykernel)",
   "language": "python",
   "name": "python3"
  },
  "language_info": {
   "codemirror_mode": {
    "name": "ipython",
    "version": 3
   },
   "file_extension": ".py",
   "mimetype": "text/x-python",
   "name": "python",
   "nbconvert_exporter": "python",
   "pygments_lexer": "ipython3",
   "version": "3.10.12"
  }
 },
 "nbformat": 4,
 "nbformat_minor": 5
}
