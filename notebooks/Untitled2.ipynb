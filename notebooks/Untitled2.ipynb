{
 "cells": [
  {
   "cell_type": "code",
   "execution_count": 1,
   "id": "aa30817c-82fe-4725-980e-d0461e2fd2d5",
   "metadata": {},
   "outputs": [],
   "source": [
    "import pandas as pd\n",
    "import seaborn as sns"
   ]
  },
  {
   "cell_type": "code",
   "execution_count": 5,
   "id": "a42cb4c8-3a22-40a6-b341-59256ca3e797",
   "metadata": {},
   "outputs": [
    {
     "name": "stderr",
     "output_type": "stream",
     "text": [
      "/tmp/ipykernel_5014/1576985958.py:17: FutureWarning:\n",
      "\n",
      "A value is trying to be set on a copy of a DataFrame or Series through chained assignment using an inplace method.\n",
      "The behavior will change in pandas 3.0. This inplace method will never work because the intermediate object on which we are setting values always behaves as a copy.\n",
      "\n",
      "For example, when doing 'df[col].method(value, inplace=True)', try using 'df.method({col: value}, inplace=True)' or df[col] = df[col].method(value) instead, to perform the operation inplace on the original object.\n",
      "\n",
      "\n",
      "\n"
     ]
    },
    {
     "name": "stdout",
     "output_type": "stream",
     "text": [
      "Mean Squared Error: 3705.617638760829\n"
     ]
    }
   ],
   "source": [
    "import pandas as pd\n",
    "from sklearn.model_selection import train_test_split\n",
    "from sklearn.feature_extraction.text import TfidfVectorizer\n",
    "from sklearn.linear_model import LinearRegression\n",
    "from sklearn.metrics import mean_squared_error\n",
    "from sklearn.preprocessing import MultiLabelBinarizer\n",
    "\n",
    "# Load data\n",
    "\n",
    "df = pd.read_csv(\"../csv/books_task.csv\")\n",
    "\n",
    "# Data Cleaning\n",
    "# Convert publishedDate to datetime\n",
    "df['publishedDate'] = pd.to_datetime(df['publishedDate'], errors='coerce')\n",
    "\n",
    "# Handle missing values\n",
    "df['description'].fillna('', inplace=True)\n",
    "\n",
    "# Feature Engineering\n",
    "# Extract year and month from publishedDate\n",
    "df['publishedYear'] = df['publishedDate'].dt.year\n",
    "df['publishedMonth'] = df['publishedDate'].dt.month\n",
    "\n",
    "# Convert authors, categories, and title to string\n",
    "def authors_clean(x):\n",
    "    if pd.isna(x):\n",
    "        return \"\"\n",
    "    x = x.replace(\"[\",\"\")\n",
    "    x = x.replace(\"]\",\"\")\n",
    "    return ', '.join(x.split(\",\"))\n",
    "\n",
    "df[\"authors\"] = df[\"authors\"].apply(authors_clean)\n",
    "#df['authors'] = df['authors'].apply(lambda x: ', '.join(x.replace(\"[\",\"\").replace(\"]\",\"\").split(\",\")))\n",
    "#df['categories'] = df['categories'].apply(lambda x: ', '.join(x))\n",
    "df['Title'] = df['Title'].astype(str)\n",
    "\n",
    "# Feature Engineering for 'Title'\n",
    "# Using TF-IDF to extract features from title\n",
    "tfidf_title = TfidfVectorizer(stop_words='english', max_features=100)\n",
    "title_features = tfidf_title.fit_transform(df['Title']).toarray()\n",
    "title_feature_names = tfidf_title.get_feature_names_out()\n",
    "\n",
    "# Convert to DataFrame and concatenate with original DataFrame\n",
    "title_df = pd.DataFrame(title_features, columns=['title_' + name for name in title_feature_names])\n",
    "df = pd.concat([df, title_df], axis=1)\n",
    "\n",
    "# Feature Engineering for 'categories'\n",
    "# Using TF-IDF to extract features from categories\n",
    "# Feature Engineering for 'categories'\n",
    "# Convert categories to one-hot encoded features\n",
    "mlb = MultiLabelBinarizer()\n",
    "categories_features = mlb.fit_transform(df['categories'].apply(lambda x: x.split(', ')))\n",
    "categories_feature_names = mlb.classes_\n",
    "\n",
    "# Convert to DataFrame and concatenate with original DataFrame\n",
    "categories_df = pd.DataFrame(categories_features, columns=['category_' + name for name in categories_feature_names])\n",
    "#df = df.drop([\"categories\"],axis=1)\n",
    "df = pd.concat([df, categories_df], axis=1)\n",
    "\n",
    "\n",
    "# Feature Engineering for 'description'\n",
    "# Using TF-IDF to extract features from description\n",
    "tfidf_description = TfidfVectorizer(stop_words='english', max_features=100)\n",
    "description_features = tfidf_description.fit_transform(df['description']).toarray()\n",
    "description_feature_names = tfidf_description.get_feature_names_out()\n",
    "\n",
    "# Convert to DataFrame and concatenate with original DataFrame\n",
    "description_df = pd.DataFrame(description_features, columns=['desc_' + name for name in description_feature_names])\n",
    "df = pd.concat([df, description_df], axis=1)\n",
    "\n",
    "# Feature Engineering for 'authors'\n",
    "# Using TF-IDF to extract features from authors\n",
    "tfidf_authors = TfidfVectorizer(stop_words='english', max_features=100)\n",
    "authors_features = tfidf_authors.fit_transform(df['authors']).toarray()\n",
    "authors_feature_names = tfidf_authors.get_feature_names_out()\n",
    "\n",
    "# Convert to DataFrame and concatenate with original DataFrame\n",
    "authors_df = pd.DataFrame(authors_features, columns=['author_' + name for name in authors_feature_names])\n",
    "df = pd.concat([df, authors_df], axis=1)\n",
    "\n",
    "# Feature Engineering for 'publisher'\n",
    "# Using TF-IDF to extract features from publisher\n",
    "tfidf_publisher = TfidfVectorizer(stop_words='english', max_features=100)\n",
    "publisher_features = tfidf_publisher.fit_transform(df['publisher']).toarray()\n",
    "publisher_feature_names = tfidf_publisher.get_feature_names_out()\n",
    "\n",
    "# Convert to DataFrame and concatenate with original DataFrame\n",
    "publisher_df = pd.DataFrame(publisher_features, columns=['publisher_' + name for name in publisher_feature_names])\n",
    "df = pd.concat([df, publisher_df], axis=1)\n",
    "\n",
    "# Regression\n",
    "# Prepare features and target variable\n",
    "X = df.drop(['Title', 'description', 'authors', 'publisher', 'publishedDate', 'categories', 'Impact'], axis=1)\n",
    "y = df['Impact']\n",
    "\n",
    "X = X.fillna(0)\n",
    "# Split data into training and testing sets\n",
    "X_train, X_test, y_train, y_test = train_test_split(X, y, test_size=0.2, random_state=42)\n",
    "\n",
    "# Train linear regression model\n",
    "model = LinearRegression()\n",
    "model.fit(X_train, y_train)\n",
    "\n",
    "# Predict on test set\n",
    "y_pred = model.predict(X_test)\n",
    "\n",
    "# Evaluate model\n",
    "mse = mean_squared_error(y_test, y_pred)\n",
    "print(\"Mean Squared Error:\", mse)\n"
   ]
  },
  {
   "cell_type": "code",
   "execution_count": 28,
   "id": "29eeb1be-6584-4d6f-80e6-83a15ed66c96",
   "metadata": {},
   "outputs": [
    {
     "data": {
      "application/vnd.plotly.v1+json": {
       "config": {
        "plotlyServerURL": "https://plot.ly"
       },
       "data": [
        {
         "alignmentgroup": "True",
         "hovertemplate": "publisher=%{x}<br>Impact=%{y}<extra></extra>",
         "legendgroup": "",
         "marker": {
          "color": "#636efa"
         },
         "name": "",
         "notched": false,
         "offsetgroup": "",
         "orientation": "v",
         "showlegend": false,
         "type": "box",
         "x": [
          "Henry Holt & Company",
          "Del Rey",
          "Markham, Ont. : Simon & Schuster of Canada",
          "Hill and Wang",
          "Tan Books & Pub",
          "Pocket Books",
          "Tan Books & Pub",
          "Roc",
          "New York : Ballantine",
          "Tan Books & Pub",
          "Millennium Orion Publishing Group",
          "Wm. B. Eerdmans Publishing",
          "Beacon Press",
          "Carol Publishing Corporation",
          "Doubleday Books",
          "Routledge",
          "Dorling Kindersley Ltd",
          "Tan Books & Pub",
          "Scholastic Incorporated",
          "A&C Black",
          "Smithsonian Institution",
          "MacMillan Publishing Company",
          "Wm. B. Eerdmans Publishing",
          "Markham, Ont. : Simon & Schuster of Canada",
          "Del Rey",
          "New York : Permabooks",
          "Macmillan Reference USA",
          "OUP USA",
          "Spatterlight Press",
          "Hill and Wang",
          "Del Rey Books",
          "Atom Books",
          "Simon & Schuster",
          "Smithsonian Institution",
          "Berg Pub Limited",
          "Cumberland House Publishing",
          "Carol Publishing Group",
          "Smithsonian Institution",
          "Bloomsbury Publishing",
          "Hachette UK",
          "Tan Books & Pub",
          "Tan Books & Pub",
          "Berg Pub Limited",
          "OUP USA",
          "Smithsonian Institution",
          "Smithsonian Institution",
          "Viking Children's Books",
          "Smithsonian Institution",
          "Bantam Books",
          "OUP USA",
          "Cumberland House Publishing",
          "New York : Harper & Row",
          "Franklin Watts",
          "Wm. B. Eerdmans Publishing",
          "Pelican Publishing",
          "Bloomsbury Publishing",
          "Berg Pub Limited",
          "Warner Books (NY)",
          "Laurel Leaf",
          "Hippocrene Books",
          "Viking Children's Books",
          "Smithsonian Institution",
          "Harvill Press",
          "New York : Permabooks",
          "Smithsonian Institution",
          "Franklin Watts",
          "MacMillan Publishing Company",
          "Berg Pub Limited",
          "Smithsonian Institution",
          "Smithsonian Institution",
          "Smithsonian Institution",
          "Scarborough, Ont. : New American Library of Canada",
          "New York : Daw Books ; [Scarborough, Ont.] : New American Library of Canada",
          "Tan Books & Pub",
          "Bantam",
          "Vintage",
          "Cumberland House Publishing",
          "Hero Wars",
          "Boston : G.K. Hall, c1978-c1984",
          "OUP USA",
          "Tan Books & Pub",
          "iUniverse",
          "Tan Books & Pub",
          "Bantam Books",
          "Hippocrene Books",
          "Wm. B. Eerdmans Publishing",
          "Bloomsbury Publishing",
          "A&C Black",
          "A&C Black",
          "Smithsonian Institution",
          "Gollancz",
          "Locus Pub",
          "Hill and Wang",
          "Berg Pub Limited",
          "Bloomsbury Publishing",
          "Spatterlight Press",
          "Harlequin Books",
          "Smithsonian Institution",
          "Voyager",
          "New York : Dell",
          "Smithsonian Institution",
          "New York : Tower Pub.",
          "Smithsonian Institution",
          "Berg Pub Limited",
          "Wm. B. Eerdmans Publishing",
          "Smithsonian Institution",
          "Scarborough, Ont. : New American Library of Canada",
          "Macmillan Reference USA",
          "Doubleday Books",
          "Macmillan Reference USA",
          "Smithsonian Institution",
          "Random House Digital, Inc.",
          "New York : Pocket Books ; Markham, Ont. : Distributed in Canada by PaperJacks Limited",
          "Pan",
          "Putnam Publishing Group",
          "Tan Books & Pub",
          "OUP USA",
          "Berkley",
          "Smithsonian Institution",
          "FPR-Books Ltd",
          "Tan Books & Pub",
          "Dell Publishing Company",
          "OUP USA",
          "Bloomsbury Publishing",
          "Wm. B. Eerdmans Publishing",
          "Gollancz",
          "Smithsonian Institution",
          "Cumberland House Publishing",
          "Smithsonian Institution",
          "Macmillan Reference USA"
         ],
         "x0": " ",
         "xaxis": "x",
         "y": [
          774.7240160569136,
          796.3366977570051,
          779.2168840338766,
          824.7983397562261,
          805.5685400829483,
          799.1626097737924,
          805.5685400829483,
          805.5685400829483,
          805.5685400829483,
          805.5685400829483,
          740.3727135927238,
          812.2857832807687,
          664.259429447413,
          741.7746927503945,
          819.1083355137085,
          733.5145941589076,
          774.7240160569136,
          800.7812983400412,
          831.0334921145519,
          825.6479406863405,
          784.3039243054303,
          941.5896833716208,
          819.1083355137085,
          788.4715535430522,
          796.3366977570051,
          829.9724763388241,
          759.873102322157,
          845.5697466149546,
          793.5048996688412,
          823.9607318560921,
          572.2589225817766,
          685.1093137894721,
          763.0393085279125,
          784.3039243054303,
          763.0393085279125,
          739.325432554045,
          741.7746927503945,
          784.3039243054303,
          726.0562184171389,
          649.253505850711,
          805.5685400829483,
          805.5685400829483,
          763.0393085279125,
          851.2313264758914,
          784.3039243054303,
          784.3039243054303,
          700.0006940922992,
          784.3039243054303,
          784.3039243054303,
          843.8295729487846,
          739.325432554045,
          805.5685400829483,
          758.3522196125385,
          819.1761215955147,
          700.0006940922992,
          719.3797068141292,
          763.0393085279125,
          805.5685400829483,
          805.5685400829483,
          752.9823752300124,
          700.0006940922992,
          783.9646222947578,
          856.628240754318,
          819.1083355137085,
          788.4715535430522,
          806.2161426995721,
          941.5896833716208,
          763.0393085279125,
          784.3039243054303,
          782.0177080997818,
          779.2168840338766,
          806.2161426995721,
          741.7746927503945,
          805.5685400829483,
          834.4146504306079,
          712.8358019567894,
          741.7746927503945,
          812.2857832807687,
          793.5048996688412,
          860.3524537744042,
          805.5685400829483,
          678.6219436740084,
          805.5685400829483,
          793.5048996688412,
          755.9431324449858,
          819.1083355137085,
          716.6979181136245,
          839.3731438824466,
          831.0666668926963,
          784.3039243054303,
          805.5685400829483,
          826.2889354549764,
          823.9607318560921,
          763.0393085279125,
          727.0416313503147,
          720.5100769728766,
          819.1083355137085,
          784.3039243054303,
          826.2129022500678,
          784.3039243054303,
          784.3039243054303,
          717.4931969169726,
          799.1626097737924,
          759.2711582939609,
          819.1083355137085,
          784.3039243054303,
          806.2161426995721,
          755.9431324449858,
          779.2168840338766,
          759.2711582939609,
          795.4428254207469,
          747.9436537111276,
          831.0666668926963,
          770.7269643865322,
          729.2797106117332,
          805.5685400829483,
          851.2313264758914,
          769.8351015392212,
          784.3039243054303,
          801.9609831137465,
          805.5685400829483,
          763.9246402507372,
          841.7053210126119,
          720.5100769728766,
          812.2857832807687,
          779.0112534827085,
          784.3039243054303,
          741.7746927503945,
          784.3039243054303,
          759.2711582939609
         ],
         "y0": " ",
         "yaxis": "y"
        }
       ],
       "layout": {
        "autosize": true,
        "boxmode": "group",
        "legend": {
         "tracegroupgap": 0
        },
        "margin": {
         "t": 60
        },
        "template": {
         "data": {
          "bar": [
           {
            "error_x": {
             "color": "#2a3f5f"
            },
            "error_y": {
             "color": "#2a3f5f"
            },
            "marker": {
             "line": {
              "color": "#E5ECF6",
              "width": 0.5
             },
             "pattern": {
              "fillmode": "overlay",
              "size": 10,
              "solidity": 0.2
             }
            },
            "type": "bar"
           }
          ],
          "barpolar": [
           {
            "marker": {
             "line": {
              "color": "#E5ECF6",
              "width": 0.5
             },
             "pattern": {
              "fillmode": "overlay",
              "size": 10,
              "solidity": 0.2
             }
            },
            "type": "barpolar"
           }
          ],
          "carpet": [
           {
            "aaxis": {
             "endlinecolor": "#2a3f5f",
             "gridcolor": "white",
             "linecolor": "white",
             "minorgridcolor": "white",
             "startlinecolor": "#2a3f5f"
            },
            "baxis": {
             "endlinecolor": "#2a3f5f",
             "gridcolor": "white",
             "linecolor": "white",
             "minorgridcolor": "white",
             "startlinecolor": "#2a3f5f"
            },
            "type": "carpet"
           }
          ],
          "choropleth": [
           {
            "colorbar": {
             "outlinewidth": 0,
             "ticks": ""
            },
            "type": "choropleth"
           }
          ],
          "contour": [
           {
            "colorbar": {
             "outlinewidth": 0,
             "ticks": ""
            },
            "colorscale": [
             [
              0,
              "#0d0887"
             ],
             [
              0.1111111111111111,
              "#46039f"
             ],
             [
              0.2222222222222222,
              "#7201a8"
             ],
             [
              0.3333333333333333,
              "#9c179e"
             ],
             [
              0.4444444444444444,
              "#bd3786"
             ],
             [
              0.5555555555555556,
              "#d8576b"
             ],
             [
              0.6666666666666666,
              "#ed7953"
             ],
             [
              0.7777777777777778,
              "#fb9f3a"
             ],
             [
              0.8888888888888888,
              "#fdca26"
             ],
             [
              1,
              "#f0f921"
             ]
            ],
            "type": "contour"
           }
          ],
          "contourcarpet": [
           {
            "colorbar": {
             "outlinewidth": 0,
             "ticks": ""
            },
            "type": "contourcarpet"
           }
          ],
          "heatmap": [
           {
            "colorbar": {
             "outlinewidth": 0,
             "ticks": ""
            },
            "colorscale": [
             [
              0,
              "#0d0887"
             ],
             [
              0.1111111111111111,
              "#46039f"
             ],
             [
              0.2222222222222222,
              "#7201a8"
             ],
             [
              0.3333333333333333,
              "#9c179e"
             ],
             [
              0.4444444444444444,
              "#bd3786"
             ],
             [
              0.5555555555555556,
              "#d8576b"
             ],
             [
              0.6666666666666666,
              "#ed7953"
             ],
             [
              0.7777777777777778,
              "#fb9f3a"
             ],
             [
              0.8888888888888888,
              "#fdca26"
             ],
             [
              1,
              "#f0f921"
             ]
            ],
            "type": "heatmap"
           }
          ],
          "heatmapgl": [
           {
            "colorbar": {
             "outlinewidth": 0,
             "ticks": ""
            },
            "colorscale": [
             [
              0,
              "#0d0887"
             ],
             [
              0.1111111111111111,
              "#46039f"
             ],
             [
              0.2222222222222222,
              "#7201a8"
             ],
             [
              0.3333333333333333,
              "#9c179e"
             ],
             [
              0.4444444444444444,
              "#bd3786"
             ],
             [
              0.5555555555555556,
              "#d8576b"
             ],
             [
              0.6666666666666666,
              "#ed7953"
             ],
             [
              0.7777777777777778,
              "#fb9f3a"
             ],
             [
              0.8888888888888888,
              "#fdca26"
             ],
             [
              1,
              "#f0f921"
             ]
            ],
            "type": "heatmapgl"
           }
          ],
          "histogram": [
           {
            "marker": {
             "pattern": {
              "fillmode": "overlay",
              "size": 10,
              "solidity": 0.2
             }
            },
            "type": "histogram"
           }
          ],
          "histogram2d": [
           {
            "colorbar": {
             "outlinewidth": 0,
             "ticks": ""
            },
            "colorscale": [
             [
              0,
              "#0d0887"
             ],
             [
              0.1111111111111111,
              "#46039f"
             ],
             [
              0.2222222222222222,
              "#7201a8"
             ],
             [
              0.3333333333333333,
              "#9c179e"
             ],
             [
              0.4444444444444444,
              "#bd3786"
             ],
             [
              0.5555555555555556,
              "#d8576b"
             ],
             [
              0.6666666666666666,
              "#ed7953"
             ],
             [
              0.7777777777777778,
              "#fb9f3a"
             ],
             [
              0.8888888888888888,
              "#fdca26"
             ],
             [
              1,
              "#f0f921"
             ]
            ],
            "type": "histogram2d"
           }
          ],
          "histogram2dcontour": [
           {
            "colorbar": {
             "outlinewidth": 0,
             "ticks": ""
            },
            "colorscale": [
             [
              0,
              "#0d0887"
             ],
             [
              0.1111111111111111,
              "#46039f"
             ],
             [
              0.2222222222222222,
              "#7201a8"
             ],
             [
              0.3333333333333333,
              "#9c179e"
             ],
             [
              0.4444444444444444,
              "#bd3786"
             ],
             [
              0.5555555555555556,
              "#d8576b"
             ],
             [
              0.6666666666666666,
              "#ed7953"
             ],
             [
              0.7777777777777778,
              "#fb9f3a"
             ],
             [
              0.8888888888888888,
              "#fdca26"
             ],
             [
              1,
              "#f0f921"
             ]
            ],
            "type": "histogram2dcontour"
           }
          ],
          "mesh3d": [
           {
            "colorbar": {
             "outlinewidth": 0,
             "ticks": ""
            },
            "type": "mesh3d"
           }
          ],
          "parcoords": [
           {
            "line": {
             "colorbar": {
              "outlinewidth": 0,
              "ticks": ""
             }
            },
            "type": "parcoords"
           }
          ],
          "pie": [
           {
            "automargin": true,
            "type": "pie"
           }
          ],
          "scatter": [
           {
            "fillpattern": {
             "fillmode": "overlay",
             "size": 10,
             "solidity": 0.2
            },
            "type": "scatter"
           }
          ],
          "scatter3d": [
           {
            "line": {
             "colorbar": {
              "outlinewidth": 0,
              "ticks": ""
             }
            },
            "marker": {
             "colorbar": {
              "outlinewidth": 0,
              "ticks": ""
             }
            },
            "type": "scatter3d"
           }
          ],
          "scattercarpet": [
           {
            "marker": {
             "colorbar": {
              "outlinewidth": 0,
              "ticks": ""
             }
            },
            "type": "scattercarpet"
           }
          ],
          "scattergeo": [
           {
            "marker": {
             "colorbar": {
              "outlinewidth": 0,
              "ticks": ""
             }
            },
            "type": "scattergeo"
           }
          ],
          "scattergl": [
           {
            "marker": {
             "colorbar": {
              "outlinewidth": 0,
              "ticks": ""
             }
            },
            "type": "scattergl"
           }
          ],
          "scattermapbox": [
           {
            "marker": {
             "colorbar": {
              "outlinewidth": 0,
              "ticks": ""
             }
            },
            "type": "scattermapbox"
           }
          ],
          "scatterpolar": [
           {
            "marker": {
             "colorbar": {
              "outlinewidth": 0,
              "ticks": ""
             }
            },
            "type": "scatterpolar"
           }
          ],
          "scatterpolargl": [
           {
            "marker": {
             "colorbar": {
              "outlinewidth": 0,
              "ticks": ""
             }
            },
            "type": "scatterpolargl"
           }
          ],
          "scatterternary": [
           {
            "marker": {
             "colorbar": {
              "outlinewidth": 0,
              "ticks": ""
             }
            },
            "type": "scatterternary"
           }
          ],
          "surface": [
           {
            "colorbar": {
             "outlinewidth": 0,
             "ticks": ""
            },
            "colorscale": [
             [
              0,
              "#0d0887"
             ],
             [
              0.1111111111111111,
              "#46039f"
             ],
             [
              0.2222222222222222,
              "#7201a8"
             ],
             [
              0.3333333333333333,
              "#9c179e"
             ],
             [
              0.4444444444444444,
              "#bd3786"
             ],
             [
              0.5555555555555556,
              "#d8576b"
             ],
             [
              0.6666666666666666,
              "#ed7953"
             ],
             [
              0.7777777777777778,
              "#fb9f3a"
             ],
             [
              0.8888888888888888,
              "#fdca26"
             ],
             [
              1,
              "#f0f921"
             ]
            ],
            "type": "surface"
           }
          ],
          "table": [
           {
            "cells": {
             "fill": {
              "color": "#EBF0F8"
             },
             "line": {
              "color": "white"
             }
            },
            "header": {
             "fill": {
              "color": "#C8D4E3"
             },
             "line": {
              "color": "white"
             }
            },
            "type": "table"
           }
          ]
         },
         "layout": {
          "annotationdefaults": {
           "arrowcolor": "#2a3f5f",
           "arrowhead": 0,
           "arrowwidth": 1
          },
          "autotypenumbers": "strict",
          "coloraxis": {
           "colorbar": {
            "outlinewidth": 0,
            "ticks": ""
           }
          },
          "colorscale": {
           "diverging": [
            [
             0,
             "#8e0152"
            ],
            [
             0.1,
             "#c51b7d"
            ],
            [
             0.2,
             "#de77ae"
            ],
            [
             0.3,
             "#f1b6da"
            ],
            [
             0.4,
             "#fde0ef"
            ],
            [
             0.5,
             "#f7f7f7"
            ],
            [
             0.6,
             "#e6f5d0"
            ],
            [
             0.7,
             "#b8e186"
            ],
            [
             0.8,
             "#7fbc41"
            ],
            [
             0.9,
             "#4d9221"
            ],
            [
             1,
             "#276419"
            ]
           ],
           "sequential": [
            [
             0,
             "#0d0887"
            ],
            [
             0.1111111111111111,
             "#46039f"
            ],
            [
             0.2222222222222222,
             "#7201a8"
            ],
            [
             0.3333333333333333,
             "#9c179e"
            ],
            [
             0.4444444444444444,
             "#bd3786"
            ],
            [
             0.5555555555555556,
             "#d8576b"
            ],
            [
             0.6666666666666666,
             "#ed7953"
            ],
            [
             0.7777777777777778,
             "#fb9f3a"
            ],
            [
             0.8888888888888888,
             "#fdca26"
            ],
            [
             1,
             "#f0f921"
            ]
           ],
           "sequentialminus": [
            [
             0,
             "#0d0887"
            ],
            [
             0.1111111111111111,
             "#46039f"
            ],
            [
             0.2222222222222222,
             "#7201a8"
            ],
            [
             0.3333333333333333,
             "#9c179e"
            ],
            [
             0.4444444444444444,
             "#bd3786"
            ],
            [
             0.5555555555555556,
             "#d8576b"
            ],
            [
             0.6666666666666666,
             "#ed7953"
            ],
            [
             0.7777777777777778,
             "#fb9f3a"
            ],
            [
             0.8888888888888888,
             "#fdca26"
            ],
            [
             1,
             "#f0f921"
            ]
           ]
          },
          "colorway": [
           "#636efa",
           "#EF553B",
           "#00cc96",
           "#ab63fa",
           "#FFA15A",
           "#19d3f3",
           "#FF6692",
           "#B6E880",
           "#FF97FF",
           "#FECB52"
          ],
          "font": {
           "color": "#2a3f5f"
          },
          "geo": {
           "bgcolor": "white",
           "lakecolor": "white",
           "landcolor": "#E5ECF6",
           "showlakes": true,
           "showland": true,
           "subunitcolor": "white"
          },
          "hoverlabel": {
           "align": "left"
          },
          "hovermode": "closest",
          "mapbox": {
           "style": "light"
          },
          "paper_bgcolor": "white",
          "plot_bgcolor": "#E5ECF6",
          "polar": {
           "angularaxis": {
            "gridcolor": "white",
            "linecolor": "white",
            "ticks": ""
           },
           "bgcolor": "#E5ECF6",
           "radialaxis": {
            "gridcolor": "white",
            "linecolor": "white",
            "ticks": ""
           }
          },
          "scene": {
           "xaxis": {
            "backgroundcolor": "#E5ECF6",
            "gridcolor": "white",
            "gridwidth": 2,
            "linecolor": "white",
            "showbackground": true,
            "ticks": "",
            "zerolinecolor": "white"
           },
           "yaxis": {
            "backgroundcolor": "#E5ECF6",
            "gridcolor": "white",
            "gridwidth": 2,
            "linecolor": "white",
            "showbackground": true,
            "ticks": "",
            "zerolinecolor": "white"
           },
           "zaxis": {
            "backgroundcolor": "#E5ECF6",
            "gridcolor": "white",
            "gridwidth": 2,
            "linecolor": "white",
            "showbackground": true,
            "ticks": "",
            "zerolinecolor": "white"
           }
          },
          "shapedefaults": {
           "line": {
            "color": "#2a3f5f"
           }
          },
          "ternary": {
           "aaxis": {
            "gridcolor": "white",
            "linecolor": "white",
            "ticks": ""
           },
           "baxis": {
            "gridcolor": "white",
            "linecolor": "white",
            "ticks": ""
           },
           "bgcolor": "#E5ECF6",
           "caxis": {
            "gridcolor": "white",
            "linecolor": "white",
            "ticks": ""
           }
          },
          "title": {
           "x": 0.05
          },
          "xaxis": {
           "automargin": true,
           "gridcolor": "white",
           "linecolor": "white",
           "ticks": "",
           "title": {
            "standoff": 15
           },
           "zerolinecolor": "white",
           "zerolinewidth": 2
          },
          "yaxis": {
           "automargin": true,
           "gridcolor": "white",
           "linecolor": "white",
           "ticks": "",
           "title": {
            "standoff": 15
           },
           "zerolinecolor": "white",
           "zerolinewidth": 2
          }
         }
        },
        "xaxis": {
         "anchor": "y",
         "autorange": true,
         "domain": [
          0,
          1
         ],
         "range": [
          -0.5,
          59.5
         ],
         "title": {
          "text": "publisher"
         },
         "type": "category"
        },
        "yaxis": {
         "anchor": "x",
         "autorange": true,
         "domain": [
          0,
          1
         ],
         "range": [
          551.7405469823408,
          962.1080589710566
         ],
         "title": {
          "text": "Impact"
         },
         "type": "linear"
        }
       }
      },
      "image/png": "[encoded data removed]",
      "text/html": [
       "<div>                            <div id=\"0bef19bf-5ac8-45f7-a423-b53eeb66ba3c\" class=\"plotly-graph-div\" style=\"height:525px; width:100%;\"></div>            <script type=\"text/javascript\">                require([\"plotly\"], function(Plotly) {                    window.PLOTLYENV=window.PLOTLYENV || {};                                    if (document.getElementById(\"0bef19bf-5ac8-45f7-a423-b53eeb66ba3c\")) {                    Plotly.newPlot(                        \"0bef19bf-5ac8-45f7-a423-b53eeb66ba3c\",                        [{\"alignmentgroup\":\"True\",\"hovertemplate\":\"publisher=%{x}\\u003cbr\\u003eImpact=%{y}\\u003cextra\\u003e\\u003c\\u002fextra\\u003e\",\"legendgroup\":\"\",\"marker\":{\"color\":\"#636efa\"},\"name\":\"\",\"notched\":false,\"offsetgroup\":\"\",\"orientation\":\"v\",\"showlegend\":false,\"x\":[\"Henry Holt & Company\",\"Del Rey\",\"Markham, Ont. : Simon & Schuster of Canada\",\"Hill and Wang\",\"Tan Books & Pub\",\"Pocket Books\",\"Tan Books & Pub\",\"Roc\",\"New York : Ballantine\",\"Tan Books & Pub\",\"Millennium Orion Publishing Group\",\"Wm. B. Eerdmans Publishing\",\"Beacon Press\",\"Carol Publishing Corporation\",\"Doubleday Books\",\"Routledge\",\"Dorling Kindersley Ltd\",\"Tan Books & Pub\",\"Scholastic Incorporated\",\"A&C Black\",\"Smithsonian Institution\",\"MacMillan Publishing Company\",\"Wm. B. Eerdmans Publishing\",\"Markham, Ont. : Simon & Schuster of Canada\",\"Del Rey\",\"New York : Permabooks\",\"Macmillan Reference USA\",\"OUP USA\",\"Spatterlight Press\",\"Hill and Wang\",\"Del Rey Books\",\"Atom Books\",\"Simon & Schuster\",\"Smithsonian Institution\",\"Berg Pub Limited\",\"Cumberland House Publishing\",\"Carol Publishing Group\",\"Smithsonian Institution\",\"Bloomsbury Publishing\",\"Hachette UK\",\"Tan Books & Pub\",\"Tan Books & Pub\",\"Berg Pub Limited\",\"OUP USA\",\"Smithsonian Institution\",\"Smithsonian Institution\",\"Viking Children's Books\",\"Smithsonian Institution\",\"Bantam Books\",\"OUP USA\",\"Cumberland House Publishing\",\"New York : Harper & Row\",\"Franklin Watts\",\"Wm. B. Eerdmans Publishing\",\"Pelican Publishing\",\"Bloomsbury Publishing\",\"Berg Pub Limited\",\"Warner Books (NY)\",\"Laurel Leaf\",\"Hippocrene Books\",\"Viking Children's Books\",\"Smithsonian Institution\",\"Harvill Press\",\"New York : Permabooks\",\"Smithsonian Institution\",\"Franklin Watts\",\"MacMillan Publishing Company\",\"Berg Pub Limited\",\"Smithsonian Institution\",\"Smithsonian Institution\",\"Smithsonian Institution\",\"Scarborough, Ont. : New American Library of Canada\",\"New York : Daw Books ; [Scarborough, Ont.] : New American Library of Canada\",\"Tan Books & Pub\",\"Bantam\",\"Vintage\",\"Cumberland House Publishing\",\"Hero Wars\",\"Boston : G.K. Hall, c1978-c1984\",\"OUP USA\",\"Tan Books & Pub\",\"iUniverse\",\"Tan Books & Pub\",\"Bantam Books\",\"Hippocrene Books\",\"Wm. B. Eerdmans Publishing\",\"Bloomsbury Publishing\",\"A&C Black\",\"A&C Black\",\"Smithsonian Institution\",\"Gollancz\",\"Locus Pub\",\"Hill and Wang\",\"Berg Pub Limited\",\"Bloomsbury Publishing\",\"Spatterlight Press\",\"Harlequin Books\",\"Smithsonian Institution\",\"Voyager\",\"New York : Dell\",\"Smithsonian Institution\",\"New York : Tower Pub.\",\"Smithsonian Institution\",\"Berg Pub Limited\",\"Wm. B. Eerdmans Publishing\",\"Smithsonian Institution\",\"Scarborough, Ont. : New American Library of Canada\",\"Macmillan Reference USA\",\"Doubleday Books\",\"Macmillan Reference USA\",\"Smithsonian Institution\",\"Random House Digital, Inc.\",\"New York : Pocket Books ; Markham, Ont. : Distributed in Canada by PaperJacks Limited\",\"Pan\",\"Putnam Publishing Group\",\"Tan Books & Pub\",\"OUP USA\",\"Berkley\",\"Smithsonian Institution\",\"FPR-Books Ltd\",\"Tan Books & Pub\",\"Dell Publishing Company\",\"OUP USA\",\"Bloomsbury Publishing\",\"Wm. B. Eerdmans Publishing\",\"Gollancz\",\"Smithsonian Institution\",\"Cumberland House Publishing\",\"Smithsonian Institution\",\"Macmillan Reference USA\"],\"x0\":\" \",\"xaxis\":\"x\",\"y\":[774.7240160569136,796.3366977570051,779.2168840338766,824.7983397562261,805.5685400829483,799.1626097737924,805.5685400829483,805.5685400829483,805.5685400829483,805.5685400829483,740.3727135927238,812.2857832807687,664.259429447413,741.7746927503945,819.1083355137085,733.5145941589076,774.7240160569136,800.7812983400412,831.0334921145519,825.6479406863405,784.3039243054303,941.5896833716208,819.1083355137085,788.4715535430522,796.3366977570051,829.9724763388241,759.873102322157,845.5697466149546,793.5048996688412,823.9607318560921,572.2589225817766,685.1093137894721,763.0393085279125,784.3039243054303,763.0393085279125,739.325432554045,741.7746927503945,784.3039243054303,726.0562184171389,649.253505850711,805.5685400829483,805.5685400829483,763.0393085279125,851.2313264758914,784.3039243054303,784.3039243054303,700.0006940922992,784.3039243054303,784.3039243054303,843.8295729487846,739.325432554045,805.5685400829483,758.3522196125385,819.1761215955147,700.0006940922992,719.3797068141292,763.0393085279125,805.5685400829483,805.5685400829483,752.9823752300124,700.0006940922992,783.9646222947578,856.628240754318,819.1083355137085,788.4715535430522,806.2161426995721,941.5896833716208,763.0393085279125,784.3039243054303,782.0177080997818,779.2168840338766,806.2161426995721,741.7746927503945,805.5685400829483,834.4146504306079,712.8358019567894,741.7746927503945,812.2857832807687,793.5048996688412,860.3524537744042,805.5685400829483,678.6219436740084,805.5685400829483,793.5048996688412,755.9431324449858,819.1083355137085,716.6979181136245,839.3731438824466,831.0666668926963,784.3039243054303,805.5685400829483,826.2889354549764,823.9607318560921,763.0393085279125,727.0416313503147,720.5100769728766,819.1083355137085,784.3039243054303,826.2129022500678,784.3039243054303,784.3039243054303,717.4931969169726,799.1626097737924,759.2711582939609,819.1083355137085,784.3039243054303,806.2161426995721,755.9431324449858,779.2168840338766,759.2711582939609,795.4428254207469,747.9436537111276,831.0666668926963,770.7269643865322,729.2797106117332,805.5685400829483,851.2313264758914,769.8351015392212,784.3039243054303,801.9609831137465,805.5685400829483,763.9246402507372,841.7053210126119,720.5100769728766,812.2857832807687,779.0112534827085,784.3039243054303,741.7746927503945,784.3039243054303,759.2711582939609],\"y0\":\" \",\"yaxis\":\"y\",\"type\":\"box\"}],                        {\"template\":{\"data\":{\"histogram2dcontour\":[{\"type\":\"histogram2dcontour\",\"colorbar\":{\"outlinewidth\":0,\"ticks\":\"\"},\"colorscale\":[[0.0,\"#0d0887\"],[0.1111111111111111,\"#46039f\"],[0.2222222222222222,\"#7201a8\"],[0.3333333333333333,\"#9c179e\"],[0.4444444444444444,\"#bd3786\"],[0.5555555555555556,\"#d8576b\"],[0.6666666666666666,\"#ed7953\"],[0.7777777777777778,\"#fb9f3a\"],[0.8888888888888888,\"#fdca26\"],[1.0,\"#f0f921\"]]}],\"choropleth\":[{\"type\":\"choropleth\",\"colorbar\":{\"outlinewidth\":0,\"ticks\":\"\"}}],\"histogram2d\":[{\"type\":\"histogram2d\",\"colorbar\":{\"outlinewidth\":0,\"ticks\":\"\"},\"colorscale\":[[0.0,\"#0d0887\"],[0.1111111111111111,\"#46039f\"],[0.2222222222222222,\"#7201a8\"],[0.3333333333333333,\"#9c179e\"],[0.4444444444444444,\"#bd3786\"],[0.5555555555555556,\"#d8576b\"],[0.6666666666666666,\"#ed7953\"],[0.7777777777777778,\"#fb9f3a\"],[0.8888888888888888,\"#fdca26\"],[1.0,\"#f0f921\"]]}],\"heatmap\":[{\"type\":\"heatmap\",\"colorbar\":{\"outlinewidth\":0,\"ticks\":\"\"},\"colorscale\":[[0.0,\"#0d0887\"],[0.1111111111111111,\"#46039f\"],[0.2222222222222222,\"#7201a8\"],[0.3333333333333333,\"#9c179e\"],[0.4444444444444444,\"#bd3786\"],[0.5555555555555556,\"#d8576b\"],[0.6666666666666666,\"#ed7953\"],[0.7777777777777778,\"#fb9f3a\"],[0.8888888888888888,\"#fdca26\"],[1.0,\"#f0f921\"]]}],\"heatmapgl\":[{\"type\":\"heatmapgl\",\"colorbar\":{\"outlinewidth\":0,\"ticks\":\"\"},\"colorscale\":[[0.0,\"#0d0887\"],[0.1111111111111111,\"#46039f\"],[0.2222222222222222,\"#7201a8\"],[0.3333333333333333,\"#9c179e\"],[0.4444444444444444,\"#bd3786\"],[0.5555555555555556,\"#d8576b\"],[0.6666666666666666,\"#ed7953\"],[0.7777777777777778,\"#fb9f3a\"],[0.8888888888888888,\"#fdca26\"],[1.0,\"#f0f921\"]]}],\"contourcarpet\":[{\"type\":\"contourcarpet\",\"colorbar\":{\"outlinewidth\":0,\"ticks\":\"\"}}],\"contour\":[{\"type\":\"contour\",\"colorbar\":{\"outlinewidth\":0,\"ticks\":\"\"},\"colorscale\":[[0.0,\"#0d0887\"],[0.1111111111111111,\"#46039f\"],[0.2222222222222222,\"#7201a8\"],[0.3333333333333333,\"#9c179e\"],[0.4444444444444444,\"#bd3786\"],[0.5555555555555556,\"#d8576b\"],[0.6666666666666666,\"#ed7953\"],[0.7777777777777778,\"#fb9f3a\"],[0.8888888888888888,\"#fdca26\"],[1.0,\"#f0f921\"]]}],\"surface\":[{\"type\":\"surface\",\"colorbar\":{\"outlinewidth\":0,\"ticks\":\"\"},\"colorscale\":[[0.0,\"#0d0887\"],[0.1111111111111111,\"#46039f\"],[0.2222222222222222,\"#7201a8\"],[0.3333333333333333,\"#9c179e\"],[0.4444444444444444,\"#bd3786\"],[0.5555555555555556,\"#d8576b\"],[0.6666666666666666,\"#ed7953\"],[0.7777777777777778,\"#fb9f3a\"],[0.8888888888888888,\"#fdca26\"],[1.0,\"#f0f921\"]]}],\"mesh3d\":[{\"type\":\"mesh3d\",\"colorbar\":{\"outlinewidth\":0,\"ticks\":\"\"}}],\"scatter\":[{\"fillpattern\":{\"fillmode\":\"overlay\",\"size\":10,\"solidity\":0.2},\"type\":\"scatter\"}],\"parcoords\":[{\"type\":\"parcoords\",\"line\":{\"colorbar\":{\"outlinewidth\":0,\"ticks\":\"\"}}}],\"scatterpolargl\":[{\"type\":\"scatterpolargl\",\"marker\":{\"colorbar\":{\"outlinewidth\":0,\"ticks\":\"\"}}}],\"bar\":[{\"error_x\":{\"color\":\"#2a3f5f\"},\"error_y\":{\"color\":\"#2a3f5f\"},\"marker\":{\"line\":{\"color\":\"#E5ECF6\",\"width\":0.5},\"pattern\":{\"fillmode\":\"overlay\",\"size\":10,\"solidity\":0.2}},\"type\":\"bar\"}],\"scattergeo\":[{\"type\":\"scattergeo\",\"marker\":{\"colorbar\":{\"outlinewidth\":0,\"ticks\":\"\"}}}],\"scatterpolar\":[{\"type\":\"scatterpolar\",\"marker\":{\"colorbar\":{\"outlinewidth\":0,\"ticks\":\"\"}}}],\"histogram\":[{\"marker\":{\"pattern\":{\"fillmode\":\"overlay\",\"size\":10,\"solidity\":0.2}},\"type\":\"histogram\"}],\"scattergl\":[{\"type\":\"scattergl\",\"marker\":{\"colorbar\":{\"outlinewidth\":0,\"ticks\":\"\"}}}],\"scatter3d\":[{\"type\":\"scatter3d\",\"line\":{\"colorbar\":{\"outlinewidth\":0,\"ticks\":\"\"}},\"marker\":{\"colorbar\":{\"outlinewidth\":0,\"ticks\":\"\"}}}],\"scattermapbox\":[{\"type\":\"scattermapbox\",\"marker\":{\"colorbar\":{\"outlinewidth\":0,\"ticks\":\"\"}}}],\"scatterternary\":[{\"type\":\"scatterternary\",\"marker\":{\"colorbar\":{\"outlinewidth\":0,\"ticks\":\"\"}}}],\"scattercarpet\":[{\"type\":\"scattercarpet\",\"marker\":{\"colorbar\":{\"outlinewidth\":0,\"ticks\":\"\"}}}],\"carpet\":[{\"aaxis\":{\"endlinecolor\":\"#2a3f5f\",\"gridcolor\":\"white\",\"linecolor\":\"white\",\"minorgridcolor\":\"white\",\"startlinecolor\":\"#2a3f5f\"},\"baxis\":{\"endlinecolor\":\"#2a3f5f\",\"gridcolor\":\"white\",\"linecolor\":\"white\",\"minorgridcolor\":\"white\",\"startlinecolor\":\"#2a3f5f\"},\"type\":\"carpet\"}],\"table\":[{\"cells\":{\"fill\":{\"color\":\"#EBF0F8\"},\"line\":{\"color\":\"white\"}},\"header\":{\"fill\":{\"color\":\"#C8D4E3\"},\"line\":{\"color\":\"white\"}},\"type\":\"table\"}],\"barpolar\":[{\"marker\":{\"line\":{\"color\":\"#E5ECF6\",\"width\":0.5},\"pattern\":{\"fillmode\":\"overlay\",\"size\":10,\"solidity\":0.2}},\"type\":\"barpolar\"}],\"pie\":[{\"automargin\":true,\"type\":\"pie\"}]},\"layout\":{\"autotypenumbers\":\"strict\",\"colorway\":[\"#636efa\",\"#EF553B\",\"#00cc96\",\"#ab63fa\",\"#FFA15A\",\"#19d3f3\",\"#FF6692\",\"#B6E880\",\"#FF97FF\",\"#FECB52\"],\"font\":{\"color\":\"#2a3f5f\"},\"hovermode\":\"closest\",\"hoverlabel\":{\"align\":\"left\"},\"paper_bgcolor\":\"white\",\"plot_bgcolor\":\"#E5ECF6\",\"polar\":{\"bgcolor\":\"#E5ECF6\",\"angularaxis\":{\"gridcolor\":\"white\",\"linecolor\":\"white\",\"ticks\":\"\"},\"radialaxis\":{\"gridcolor\":\"white\",\"linecolor\":\"white\",\"ticks\":\"\"}},\"ternary\":{\"bgcolor\":\"#E5ECF6\",\"aaxis\":{\"gridcolor\":\"white\",\"linecolor\":\"white\",\"ticks\":\"\"},\"baxis\":{\"gridcolor\":\"white\",\"linecolor\":\"white\",\"ticks\":\"\"},\"caxis\":{\"gridcolor\":\"white\",\"linecolor\":\"white\",\"ticks\":\"\"}},\"coloraxis\":{\"colorbar\":{\"outlinewidth\":0,\"ticks\":\"\"}},\"colorscale\":{\"sequential\":[[0.0,\"#0d0887\"],[0.1111111111111111,\"#46039f\"],[0.2222222222222222,\"#7201a8\"],[0.3333333333333333,\"#9c179e\"],[0.4444444444444444,\"#bd3786\"],[0.5555555555555556,\"#d8576b\"],[0.6666666666666666,\"#ed7953\"],[0.7777777777777778,\"#fb9f3a\"],[0.8888888888888888,\"#fdca26\"],[1.0,\"#f0f921\"]],\"sequentialminus\":[[0.0,\"#0d0887\"],[0.1111111111111111,\"#46039f\"],[0.2222222222222222,\"#7201a8\"],[0.3333333333333333,\"#9c179e\"],[0.4444444444444444,\"#bd3786\"],[0.5555555555555556,\"#d8576b\"],[0.6666666666666666,\"#ed7953\"],[0.7777777777777778,\"#fb9f3a\"],[0.8888888888888888,\"#fdca26\"],[1.0,\"#f0f921\"]],\"diverging\":[[0,\"#8e0152\"],[0.1,\"#c51b7d\"],[0.2,\"#de77ae\"],[0.3,\"#f1b6da\"],[0.4,\"#fde0ef\"],[0.5,\"#f7f7f7\"],[0.6,\"#e6f5d0\"],[0.7,\"#b8e186\"],[0.8,\"#7fbc41\"],[0.9,\"#4d9221\"],[1,\"#276419\"]]},\"xaxis\":{\"gridcolor\":\"white\",\"linecolor\":\"white\",\"ticks\":\"\",\"title\":{\"standoff\":15},\"zerolinecolor\":\"white\",\"automargin\":true,\"zerolinewidth\":2},\"yaxis\":{\"gridcolor\":\"white\",\"linecolor\":\"white\",\"ticks\":\"\",\"title\":{\"standoff\":15},\"zerolinecolor\":\"white\",\"automargin\":true,\"zerolinewidth\":2},\"scene\":{\"xaxis\":{\"backgroundcolor\":\"#E5ECF6\",\"gridcolor\":\"white\",\"linecolor\":\"white\",\"showbackground\":true,\"ticks\":\"\",\"zerolinecolor\":\"white\",\"gridwidth\":2},\"yaxis\":{\"backgroundcolor\":\"#E5ECF6\",\"gridcolor\":\"white\",\"linecolor\":\"white\",\"showbackground\":true,\"ticks\":\"\",\"zerolinecolor\":\"white\",\"gridwidth\":2},\"zaxis\":{\"backgroundcolor\":\"#E5ECF6\",\"gridcolor\":\"white\",\"linecolor\":\"white\",\"showbackground\":true,\"ticks\":\"\",\"zerolinecolor\":\"white\",\"gridwidth\":2}},\"shapedefaults\":{\"line\":{\"color\":\"#2a3f5f\"}},\"annotationdefaults\":{\"arrowcolor\":\"#2a3f5f\",\"arrowhead\":0,\"arrowwidth\":1},\"geo\":{\"bgcolor\":\"white\",\"landcolor\":\"#E5ECF6\",\"subunitcolor\":\"white\",\"showland\":true,\"showlakes\":true,\"lakecolor\":\"white\"},\"title\":{\"x\":0.05},\"mapbox\":{\"style\":\"light\"}}},\"xaxis\":{\"anchor\":\"y\",\"domain\":[0.0,1.0],\"title\":{\"text\":\"publisher\"}},\"yaxis\":{\"anchor\":\"x\",\"domain\":[0.0,1.0],\"title\":{\"text\":\"Impact\"}},\"legend\":{\"tracegroupgap\":0},\"margin\":{\"t\":60},\"boxmode\":\"group\"},                        {\"responsive\": true}                    ).then(function(){\n",
       "                            \n",
       "var gd = document.getElementById('0bef19bf-5ac8-45f7-a423-b53eeb66ba3c');\n",
       "var x = new MutationObserver(function (mutations, observer) {{\n",
       "        var display = window.getComputedStyle(gd).display;\n",
       "        if (!display || display === 'none') {{\n",
       "            console.log([gd, 'removed!']);\n",
       "            Plotly.purge(gd);\n",
       "            observer.disconnect();\n",
       "        }}\n",
       "}});\n",
       "\n",
       "// Listen for the removal of the full notebook cells\n",
       "var notebookContainer = gd.closest('#notebook-container');\n",
       "if (notebookContainer) {{\n",
       "    x.observe(notebookContainer, {childList: true});\n",
       "}}\n",
       "\n",
       "// Listen for the clearing of the current output cell\n",
       "var outputEl = gd.closest('.output');\n",
       "if (outputEl) {{\n",
       "    x.observe(outputEl, {childList: true});\n",
       "}}\n",
       "\n",
       "                        })                };                });            </script>        </div>"
      ]
     },
     "metadata": {},
     "output_type": "display_data"
    }
   ],
   "source": [
    "import plotly.express as px\n",
    "fig = px.box(df[df[\"categories\"] == \"['Science fiction']\"], x=\"publisher\", y=\"Impact\")\n",
    "fig.show()"
   ]
  },
  {
   "cell_type": "code",
   "execution_count": 29,
   "id": "db12db40-f133-4e2d-84d9-21c21c2fed24",
   "metadata": {},
   "outputs": [],
   "source": [
    "fig.write_html(\"sci-fi.html\")"
   ]
  },
  {
   "cell_type": "code",
   "execution_count": 31,
   "id": "38cd4907-2bce-4d99-b39e-96ad63c683e6",
   "metadata": {},
   "outputs": [],
   "source": [
    "high_imp = df[df[\"Impact\"] >= 950]"
   ]
  },
  {
   "cell_type": "code",
   "execution_count": 69,
   "id": "2b819f4c-5508-4543-a882-60e265859006",
   "metadata": {},
   "outputs": [
    {
     "data": {
      "text/html": [
       "<div>\n",
       "<style scoped>\n",
       "    .dataframe tbody tr th:only-of-type {\n",
       "        vertical-align: middle;\n",
       "    }\n",
       "\n",
       "    .dataframe tbody tr th {\n",
       "        vertical-align: top;\n",
       "    }\n",
       "\n",
       "    .dataframe thead th {\n",
       "        text-align: right;\n",
       "    }\n",
       "</style>\n",
       "<table border=\"1\" class=\"dataframe\">\n",
       "  <thead>\n",
       "    <tr style=\"text-align: right;\">\n",
       "      <th></th>\n",
       "      <th>_c0</th>\n",
       "      <th>Title</th>\n",
       "      <th>description</th>\n",
       "      <th>authors</th>\n",
       "      <th>publisher</th>\n",
       "      <th>publishedDate</th>\n",
       "      <th>categories</th>\n",
       "      <th>Impact</th>\n",
       "      <th>publishedYear</th>\n",
       "      <th>publishedMonth</th>\n",
       "      <th>...</th>\n",
       "      <th>publisher_uk</th>\n",
       "      <th>publisher_univ</th>\n",
       "      <th>publisher_university</th>\n",
       "      <th>publisher_usa</th>\n",
       "      <th>publisher_vintage</th>\n",
       "      <th>publisher_wiley</th>\n",
       "      <th>publisher_wm</th>\n",
       "      <th>publisher_york</th>\n",
       "      <th>publisher_young</th>\n",
       "      <th>publisher_zondervan</th>\n",
       "    </tr>\n",
       "  </thead>\n",
       "  <tbody>\n",
       "    <tr>\n",
       "      <th>1161</th>\n",
       "      <td>1669</td>\n",
       "      <td>The Gregg Reference Manual</td>\n",
       "      <td>The Gregg Reference Manual is intended for any...</td>\n",
       "      <td>'William Sabin'</td>\n",
       "      <td>McGraw-Hill Education</td>\n",
       "      <td>NaT</td>\n",
       "      <td>['Language Arts &amp; Disciplines']</td>\n",
       "      <td>957.000603</td>\n",
       "      <td>NaN</td>\n",
       "      <td>NaN</td>\n",
       "      <td>...</td>\n",
       "      <td>0.0</td>\n",
       "      <td>0.0</td>\n",
       "      <td>0.0</td>\n",
       "      <td>0.0</td>\n",
       "      <td>0.0</td>\n",
       "      <td>0.0</td>\n",
       "      <td>0.0</td>\n",
       "      <td>0.0</td>\n",
       "      <td>0.0</td>\n",
       "      <td>0.0</td>\n",
       "    </tr>\n",
       "    <tr>\n",
       "      <th>2406</th>\n",
       "      <td>3375</td>\n",
       "      <td>Magruder's American government</td>\n",
       "      <td>Hailed as a stellar educational resource since...</td>\n",
       "      <td>'William A. McClenaghan'</td>\n",
       "      <td>Prentice Hall</td>\n",
       "      <td>NaT</td>\n",
       "      <td>['Education']</td>\n",
       "      <td>958.005769</td>\n",
       "      <td>NaN</td>\n",
       "      <td>NaN</td>\n",
       "      <td>...</td>\n",
       "      <td>0.0</td>\n",
       "      <td>0.0</td>\n",
       "      <td>0.0</td>\n",
       "      <td>0.0</td>\n",
       "      <td>0.0</td>\n",
       "      <td>0.0</td>\n",
       "      <td>0.0</td>\n",
       "      <td>0.0</td>\n",
       "      <td>0.0</td>\n",
       "      <td>0.0</td>\n",
       "    </tr>\n",
       "    <tr>\n",
       "      <th>2599</th>\n",
       "      <td>3641</td>\n",
       "      <td>Robert The Bruce The Price Of The Kings Peace</td>\n",
       "      <td>This trilogy tells the story of Robert the Bru...</td>\n",
       "      <td>'Nigel Tranter'</td>\n",
       "      <td>Coronet</td>\n",
       "      <td>NaT</td>\n",
       "      <td>['True Crime']</td>\n",
       "      <td>954.075493</td>\n",
       "      <td>NaN</td>\n",
       "      <td>NaN</td>\n",
       "      <td>...</td>\n",
       "      <td>0.0</td>\n",
       "      <td>0.0</td>\n",
       "      <td>0.0</td>\n",
       "      <td>0.0</td>\n",
       "      <td>0.0</td>\n",
       "      <td>0.0</td>\n",
       "      <td>0.0</td>\n",
       "      <td>0.0</td>\n",
       "      <td>0.0</td>\n",
       "      <td>0.0</td>\n",
       "    </tr>\n",
       "    <tr>\n",
       "      <th>2973</th>\n",
       "      <td>4183</td>\n",
       "      <td>Into the Wild (Warriors)</td>\n",
       "      <td>Join the legion of fans who have made Erin Hun...</td>\n",
       "      <td>'Erin Hunter'</td>\n",
       "      <td>HarperCollins</td>\n",
       "      <td>NaT</td>\n",
       "      <td>['Juvenile Fiction']</td>\n",
       "      <td>953.013111</td>\n",
       "      <td>NaN</td>\n",
       "      <td>NaN</td>\n",
       "      <td>...</td>\n",
       "      <td>0.0</td>\n",
       "      <td>0.0</td>\n",
       "      <td>0.0</td>\n",
       "      <td>0.0</td>\n",
       "      <td>0.0</td>\n",
       "      <td>0.0</td>\n",
       "      <td>0.0</td>\n",
       "      <td>0.0</td>\n",
       "      <td>0.0</td>\n",
       "      <td>0.0</td>\n",
       "    </tr>\n",
       "    <tr>\n",
       "      <th>3324</th>\n",
       "      <td>4671</td>\n",
       "      <td>Angelique: The Marquise of the Angels</td>\n",
       "      <td>Angelique is consumed by the desire for reveng...</td>\n",
       "      <td>'Anne Golon',  'Sergeanne Golon',  'Rita Barisse'</td>\n",
       "      <td>G K Hall &amp; Company</td>\n",
       "      <td>NaT</td>\n",
       "      <td>['Fiction']</td>\n",
       "      <td>978.503951</td>\n",
       "      <td>NaN</td>\n",
       "      <td>NaN</td>\n",
       "      <td>...</td>\n",
       "      <td>0.0</td>\n",
       "      <td>0.0</td>\n",
       "      <td>0.0</td>\n",
       "      <td>0.0</td>\n",
       "      <td>0.0</td>\n",
       "      <td>0.0</td>\n",
       "      <td>0.0</td>\n",
       "      <td>0.0</td>\n",
       "      <td>0.0</td>\n",
       "      <td>0.0</td>\n",
       "    </tr>\n",
       "    <tr>\n",
       "      <th>...</th>\n",
       "      <td>...</td>\n",
       "      <td>...</td>\n",
       "      <td>...</td>\n",
       "      <td>...</td>\n",
       "      <td>...</td>\n",
       "      <td>...</td>\n",
       "      <td>...</td>\n",
       "      <td>...</td>\n",
       "      <td>...</td>\n",
       "      <td>...</td>\n",
       "      <td>...</td>\n",
       "      <td>...</td>\n",
       "      <td>...</td>\n",
       "      <td>...</td>\n",
       "      <td>...</td>\n",
       "      <td>...</td>\n",
       "      <td>...</td>\n",
       "      <td>...</td>\n",
       "      <td>...</td>\n",
       "      <td>...</td>\n",
       "      <td>...</td>\n",
       "    </tr>\n",
       "    <tr>\n",
       "      <th>129949</th>\n",
       "      <td>195270</td>\n",
       "      <td>Fred Claire: My 30 Years in Dodger Blue</td>\n",
       "      <td>Fred Claire takes you through his 30 years wit...</td>\n",
       "      <td>'Fred Claire'</td>\n",
       "      <td>Simon and Schuster</td>\n",
       "      <td>NaT</td>\n",
       "      <td>['Biography &amp; Autobiography']</td>\n",
       "      <td>951.714429</td>\n",
       "      <td>NaN</td>\n",
       "      <td>NaN</td>\n",
       "      <td>...</td>\n",
       "      <td>0.0</td>\n",
       "      <td>0.0</td>\n",
       "      <td>0.0</td>\n",
       "      <td>0.0</td>\n",
       "      <td>0.0</td>\n",
       "      <td>0.0</td>\n",
       "      <td>0.0</td>\n",
       "      <td>0.0</td>\n",
       "      <td>0.0</td>\n",
       "      <td>0.0</td>\n",
       "    </tr>\n",
       "    <tr>\n",
       "      <th>130139</th>\n",
       "      <td>195578</td>\n",
       "      <td>The Calvin and Hobbes Tenth Anniversary Book</td>\n",
       "      <td>The creator of \"Calvin and Hobbes\" discusses t...</td>\n",
       "      <td>'Bill Watterson'</td>\n",
       "      <td>Andrews McMeel Publishing</td>\n",
       "      <td>NaT</td>\n",
       "      <td>['Humor']</td>\n",
       "      <td>956.098653</td>\n",
       "      <td>NaN</td>\n",
       "      <td>NaN</td>\n",
       "      <td>...</td>\n",
       "      <td>0.0</td>\n",
       "      <td>0.0</td>\n",
       "      <td>0.0</td>\n",
       "      <td>0.0</td>\n",
       "      <td>0.0</td>\n",
       "      <td>0.0</td>\n",
       "      <td>0.0</td>\n",
       "      <td>0.0</td>\n",
       "      <td>0.0</td>\n",
       "      <td>0.0</td>\n",
       "    </tr>\n",
       "    <tr>\n",
       "      <th>133895</th>\n",
       "      <td>201634</td>\n",
       "      <td>Raquela: a Woman of Israel</td>\n",
       "      <td>A National Jewish Book Award–winning biography...</td>\n",
       "      <td>'Ruth Gruber'</td>\n",
       "      <td>Open Road Media</td>\n",
       "      <td>NaT</td>\n",
       "      <td>['Biography &amp; Autobiography']</td>\n",
       "      <td>958.046553</td>\n",
       "      <td>NaN</td>\n",
       "      <td>NaN</td>\n",
       "      <td>...</td>\n",
       "      <td>0.0</td>\n",
       "      <td>0.0</td>\n",
       "      <td>0.0</td>\n",
       "      <td>0.0</td>\n",
       "      <td>0.0</td>\n",
       "      <td>0.0</td>\n",
       "      <td>0.0</td>\n",
       "      <td>0.0</td>\n",
       "      <td>0.0</td>\n",
       "      <td>0.0</td>\n",
       "    </tr>\n",
       "    <tr>\n",
       "      <th>135077</th>\n",
       "      <td>203934</td>\n",
       "      <td>The Four Laws of Debt Free Prosperity</td>\n",
       "      <td></td>\n",
       "      <td>'Blaine Harris',  'Charles A. Coonradt'</td>\n",
       "      <td>Financial Wellness Group</td>\n",
       "      <td>1996-01-01</td>\n",
       "      <td>['Business &amp; Economics']</td>\n",
       "      <td>960.533110</td>\n",
       "      <td>1996.0</td>\n",
       "      <td>1.0</td>\n",
       "      <td>...</td>\n",
       "      <td>0.0</td>\n",
       "      <td>0.0</td>\n",
       "      <td>0.0</td>\n",
       "      <td>0.0</td>\n",
       "      <td>0.0</td>\n",
       "      <td>0.0</td>\n",
       "      <td>0.0</td>\n",
       "      <td>0.0</td>\n",
       "      <td>0.0</td>\n",
       "      <td>0.0</td>\n",
       "    </tr>\n",
       "    <tr>\n",
       "      <th>135580</th>\n",
       "      <td>205139</td>\n",
       "      <td>The knowledge of the holy: The attributes of G...</td>\n",
       "      <td>This classic of Christian testimony and devoti...</td>\n",
       "      <td>'A. W. Tozer'</td>\n",
       "      <td>ISD LLC</td>\n",
       "      <td>NaT</td>\n",
       "      <td>['Religion']</td>\n",
       "      <td>957.892175</td>\n",
       "      <td>NaN</td>\n",
       "      <td>NaN</td>\n",
       "      <td>...</td>\n",
       "      <td>0.0</td>\n",
       "      <td>0.0</td>\n",
       "      <td>0.0</td>\n",
       "      <td>0.0</td>\n",
       "      <td>0.0</td>\n",
       "      <td>0.0</td>\n",
       "      <td>0.0</td>\n",
       "      <td>0.0</td>\n",
       "      <td>0.0</td>\n",
       "      <td>0.0</td>\n",
       "    </tr>\n",
       "  </tbody>\n",
       "</table>\n",
       "<p>149 rows × 515 columns</p>\n",
       "</div>"
      ],
      "text/plain": [
       "           _c0                                              Title  \\\n",
       "1161      1669                         The Gregg Reference Manual   \n",
       "2406      3375                     Magruder's American government   \n",
       "2599      3641      Robert The Bruce The Price Of The Kings Peace   \n",
       "2973      4183                           Into the Wild (Warriors)   \n",
       "3324      4671              Angelique: The Marquise of the Angels   \n",
       "...        ...                                                ...   \n",
       "129949  195270            Fred Claire: My 30 Years in Dodger Blue   \n",
       "130139  195578       The Calvin and Hobbes Tenth Anniversary Book   \n",
       "133895  201634                         Raquela: a Woman of Israel   \n",
       "135077  203934              The Four Laws of Debt Free Prosperity   \n",
       "135580  205139  The knowledge of the holy: The attributes of G...   \n",
       "\n",
       "                                              description  \\\n",
       "1161    The Gregg Reference Manual is intended for any...   \n",
       "2406    Hailed as a stellar educational resource since...   \n",
       "2599    This trilogy tells the story of Robert the Bru...   \n",
       "2973    Join the legion of fans who have made Erin Hun...   \n",
       "3324    Angelique is consumed by the desire for reveng...   \n",
       "...                                                   ...   \n",
       "129949  Fred Claire takes you through his 30 years wit...   \n",
       "130139  The creator of \"Calvin and Hobbes\" discusses t...   \n",
       "133895  A National Jewish Book Award–winning biography...   \n",
       "135077                                                      \n",
       "135580  This classic of Christian testimony and devoti...   \n",
       "\n",
       "                                                  authors  \\\n",
       "1161                                      'William Sabin'   \n",
       "2406                             'William A. McClenaghan'   \n",
       "2599                                      'Nigel Tranter'   \n",
       "2973                                        'Erin Hunter'   \n",
       "3324    'Anne Golon',  'Sergeanne Golon',  'Rita Barisse'   \n",
       "...                                                   ...   \n",
       "129949                                      'Fred Claire'   \n",
       "130139                                   'Bill Watterson'   \n",
       "133895                                      'Ruth Gruber'   \n",
       "135077            'Blaine Harris',  'Charles A. Coonradt'   \n",
       "135580                                      'A. W. Tozer'   \n",
       "\n",
       "                        publisher publishedDate  \\\n",
       "1161        McGraw-Hill Education           NaT   \n",
       "2406                Prentice Hall           NaT   \n",
       "2599                      Coronet           NaT   \n",
       "2973                HarperCollins           NaT   \n",
       "3324           G K Hall & Company           NaT   \n",
       "...                           ...           ...   \n",
       "129949         Simon and Schuster           NaT   \n",
       "130139  Andrews McMeel Publishing           NaT   \n",
       "133895            Open Road Media           NaT   \n",
       "135077   Financial Wellness Group    1996-01-01   \n",
       "135580                    ISD LLC           NaT   \n",
       "\n",
       "                             categories      Impact  publishedYear  \\\n",
       "1161    ['Language Arts & Disciplines']  957.000603            NaN   \n",
       "2406                      ['Education']  958.005769            NaN   \n",
       "2599                     ['True Crime']  954.075493            NaN   \n",
       "2973               ['Juvenile Fiction']  953.013111            NaN   \n",
       "3324                        ['Fiction']  978.503951            NaN   \n",
       "...                                 ...         ...            ...   \n",
       "129949    ['Biography & Autobiography']  951.714429            NaN   \n",
       "130139                        ['Humor']  956.098653            NaN   \n",
       "133895    ['Biography & Autobiography']  958.046553            NaN   \n",
       "135077         ['Business & Economics']  960.533110         1996.0   \n",
       "135580                     ['Religion']  957.892175            NaN   \n",
       "\n",
       "        publishedMonth  ...  publisher_uk  publisher_univ  \\\n",
       "1161               NaN  ...           0.0             0.0   \n",
       "2406               NaN  ...           0.0             0.0   \n",
       "2599               NaN  ...           0.0             0.0   \n",
       "2973               NaN  ...           0.0             0.0   \n",
       "3324               NaN  ...           0.0             0.0   \n",
       "...                ...  ...           ...             ...   \n",
       "129949             NaN  ...           0.0             0.0   \n",
       "130139             NaN  ...           0.0             0.0   \n",
       "133895             NaN  ...           0.0             0.0   \n",
       "135077             1.0  ...           0.0             0.0   \n",
       "135580             NaN  ...           0.0             0.0   \n",
       "\n",
       "        publisher_university  publisher_usa  publisher_vintage  \\\n",
       "1161                     0.0            0.0                0.0   \n",
       "2406                     0.0            0.0                0.0   \n",
       "2599                     0.0            0.0                0.0   \n",
       "2973                     0.0            0.0                0.0   \n",
       "3324                     0.0            0.0                0.0   \n",
       "...                      ...            ...                ...   \n",
       "129949                   0.0            0.0                0.0   \n",
       "130139                   0.0            0.0                0.0   \n",
       "133895                   0.0            0.0                0.0   \n",
       "135077                   0.0            0.0                0.0   \n",
       "135580                   0.0            0.0                0.0   \n",
       "\n",
       "        publisher_wiley  publisher_wm  publisher_york  publisher_young  \\\n",
       "1161                0.0           0.0             0.0              0.0   \n",
       "2406                0.0           0.0             0.0              0.0   \n",
       "2599                0.0           0.0             0.0              0.0   \n",
       "2973                0.0           0.0             0.0              0.0   \n",
       "3324                0.0           0.0             0.0              0.0   \n",
       "...                 ...           ...             ...              ...   \n",
       "129949              0.0           0.0             0.0              0.0   \n",
       "130139              0.0           0.0             0.0              0.0   \n",
       "133895              0.0           0.0             0.0              0.0   \n",
       "135077              0.0           0.0             0.0              0.0   \n",
       "135580              0.0           0.0             0.0              0.0   \n",
       "\n",
       "        publisher_zondervan  \n",
       "1161                    0.0  \n",
       "2406                    0.0  \n",
       "2599                    0.0  \n",
       "2973                    0.0  \n",
       "3324                    0.0  \n",
       "...                     ...  \n",
       "129949                  0.0  \n",
       "130139                  0.0  \n",
       "133895                  0.0  \n",
       "135077                  0.0  \n",
       "135580                  0.0  \n",
       "\n",
       "[149 rows x 515 columns]"
      ]
     },
     "execution_count": 69,
     "metadata": {},
     "output_type": "execute_result"
    }
   ],
   "source": [
    "high_imp"
   ]
  },
  {
   "cell_type": "code",
   "execution_count": 33,
   "id": "2ad77f85-febf-4dc3-bef3-ae5da9d26704",
   "metadata": {},
   "outputs": [
    {
     "data": {
      "text/plain": [
       "(149, 515)"
      ]
     },
     "execution_count": 33,
     "metadata": {},
     "output_type": "execute_result"
    }
   ],
   "source": [
    "high_imp.shape"
   ]
  },
  {
   "cell_type": "code",
   "execution_count": 51,
   "id": "afb16804-968f-4723-8982-88683c659d67",
   "metadata": {},
   "outputs": [
    {
     "data": {
      "text/plain": [
       "categories\n",
       "['Juvenile Fiction']               36\n",
       "['Biography & Autobiography']      20\n",
       "['Fiction']                        17\n",
       "['Religion']                       16\n",
       "['Juvenile Nonfiction']             8\n",
       "['History']                         6\n",
       "['Education']                       5\n",
       "['Cooking']                         3\n",
       "['Body, Mind & Spirit']             3\n",
       "['Comics & Graphic Novels']         3\n",
       "['Art']                             3\n",
       "['Humor']                           3\n",
       "['Sports & Recreation']             3\n",
       "['Family & Relationships']          2\n",
       "['Business & Economics']            2\n",
       "['Foreign Language Study']          2\n",
       "['Self-Help']                       2\n",
       "['Crafts & Hobbies']                2\n",
       "['Reference']                       2\n",
       "['Health & Fitness']                1\n",
       "['Animals']                         1\n",
       "['Photography']                     1\n",
       "['Language Arts & Disciplines']     1\n",
       "['American literature']             1\n",
       "['Literary Criticism']              1\n",
       "['Games & Activities']              1\n",
       "['Poetry']                          1\n",
       "['Philosophy']                      1\n",
       "['True Crime']                      1\n",
       "['Computers']                       1\n",
       "Name: count, dtype: int64"
      ]
     },
     "execution_count": 51,
     "metadata": {},
     "output_type": "execute_result"
    }
   ],
   "source": [
    "high_imp[\"categories\"].value_counts()"
   ]
  },
  {
   "cell_type": "code",
   "execution_count": 52,
   "id": "033a333d-abee-46ca-b216-a582a4242938",
   "metadata": {},
   "outputs": [
    {
     "data": {
      "text/plain": [
       "authors\n",
       "'Bill Watterson'                     4\n",
       "'Brian Jacques'                      3\n",
       "                                     3\n",
       "'Leonard Ravenhill'                  3\n",
       "'L. M. Montgomery'                   2\n",
       "                                    ..\n",
       "'Joyce Meyer'                        1\n",
       "'Lawrence S. Ritter'                 1\n",
       "'Kris Vallotton',  'Bill Johnson'    1\n",
       "\"Kevin O'Hara\"                       1\n",
       "'A. W. Tozer'                        1\n",
       "Name: count, Length: 129, dtype: int64"
      ]
     },
     "execution_count": 52,
     "metadata": {},
     "output_type": "execute_result"
    }
   ],
   "source": [
    "high_imp[\"authors\"].value_counts()"
   ]
  },
  {
   "cell_type": "code",
   "execution_count": 53,
   "id": "4f6af3cf-1915-4d89-9af6-a4ed2aa56efd",
   "metadata": {},
   "outputs": [
    {
     "data": {
      "text/plain": [
       "publisher\n",
       "Simon and Schuster                 11\n",
       "McGraw-Hill Education               5\n",
       "Andrews McMeel Publishing           5\n",
       "Open Road Media                     5\n",
       "Coronet                             4\n",
       "                                   ..\n",
       "Penguin                             1\n",
       "Farrar, Straus and Giroux (BYR)     1\n",
       "Albert Whitman & Company            1\n",
       "FaithWords                          1\n",
       "ISD LLC                             1\n",
       "Name: count, Length: 97, dtype: int64"
      ]
     },
     "execution_count": 53,
     "metadata": {},
     "output_type": "execute_result"
    }
   ],
   "source": [
    "high_imp[\"publisher\"].value_counts()"
   ]
  },
  {
   "cell_type": "code",
   "execution_count": 57,
   "id": "477411a2-faa7-4214-8d80-4b9800ab6102",
   "metadata": {},
   "outputs": [
    {
     "data": {
      "text/plain": [
       "publisher\n",
       "Tan Books & Pub                      3635\n",
       "Simon and Schuster                   3600\n",
       "Smithsonian Institution              3216\n",
       "Penguin                              2788\n",
       "Wm. B. Eerdmans Publishing           2563\n",
       "Routledge                            2371\n",
       "John Wiley & Sons                    1984\n",
       "Harper Collins                       1959\n",
       "Cambridge University Press           1478\n",
       "A&C Black                            1355\n",
       "Macmillan                            1215\n",
       "OUP USA                              1187\n",
       "Berg Pub Limited                     1169\n",
       "Courier Corporation                  1116\n",
       "iUniverse                            1057\n",
       "Bloomsbury Publishing                1031\n",
       "Open Road Media                       983\n",
       "Vintage                               976\n",
       "Springer Science & Business Media     885\n",
       "Houghton Mifflin Harcourt             878\n",
       "Oxford University Press               759\n",
       "Random House                          751\n",
       "Hachette UK                           724\n",
       "Princeton University Press            619\n",
       "Oxford University Press, USA          604\n",
       "Cumberland House Publishing           590\n",
       "W. W. Norton & Company                573\n",
       "Univ of California Press              560\n",
       "Harlequin                             555\n",
       "McGraw Hill Professional              548\n",
       "HarperCollins                         539\n",
       "CRC Press                             520\n",
       "Rowman & Littlefield                  512\n",
       "Bantam                                511\n",
       "University of Chicago Press           505\n",
       "Wiley                                 503\n",
       "Springer                              460\n",
       "Penguin UK                            454\n",
       "Hippocrene Books                      450\n",
       "Ballantine Books                      441\n",
       "Prentice Hall                         417\n",
       "Elsevier                              409\n",
       "Harvard University Press              387\n",
       "Cengage Learning                      373\n",
       "Zondervan                             363\n",
       "Derrydale Press                       355\n",
       "Yale University Press                 354\n",
       "Thomas Nelson                         353\n",
       "MIT Press                             350\n",
       "Chronicle Books                       349\n",
       "Name: count, dtype: int64"
      ]
     },
     "execution_count": 57,
     "metadata": {},
     "output_type": "execute_result"
    }
   ],
   "source": [
    "df[\"publisher\"].value_counts()[0:50]"
   ]
  },
  {
   "cell_type": "code",
   "execution_count": 42,
   "id": "636c4993-b173-4a48-aba2-bdf3560feed4",
   "metadata": {},
   "outputs": [],
   "source": [
    "def description_trilogy(x):\n",
    "    if \"trilogy\" in x.lower():\n",
    "        return True\n",
    "    else:\n",
    "        return False"
   ]
  },
  {
   "cell_type": "code",
   "execution_count": 43,
   "id": "76dd4f0b-9dd8-4919-bc5a-1be1e1d3780a",
   "metadata": {},
   "outputs": [],
   "source": [
    "df[\"trilogy_desc\"] = df[\"description\"].apply(description_trilogy)"
   ]
  },
  {
   "cell_type": "code",
   "execution_count": 46,
   "id": "63fafb90-1722-4177-977f-7825267a5f2d",
   "metadata": {},
   "outputs": [
    {
     "data": {
      "text/plain": [
       "<Axes: >"
      ]
     },
     "execution_count": 46,
     "metadata": {},
     "output_type": "execute_result"
    },
    {
     "data": {
      "image/png": "[encoded data removed]",
      "text/plain": [
       "<Figure size 640x480 with 1 Axes>"
      ]
     },
     "metadata": {},
     "output_type": "display_data"
    }
   ],
   "source": [
    "df[df[\"trilogy_desc\"]][\"Impact\"].hist()"
   ]
  },
  {
   "cell_type": "code",
   "execution_count": 47,
   "id": "a4ff3c96-1738-4434-bece-7260c15aa59d",
   "metadata": {},
   "outputs": [
    {
     "data": {
      "text/plain": [
       "<Axes: >"
      ]
     },
     "execution_count": 47,
     "metadata": {},
     "output_type": "execute_result"
    },
    {
     "data": {
      "image/png": "[encoded data removed]",
      "text/plain": [
       "<Figure size 640x480 with 1 Axes>"
      ]
     },
     "metadata": {},
     "output_type": "display_data"
    }
   ],
   "source": [
    "df[\"Impact\"].hist()"
   ]
  },
  {
   "cell_type": "code",
   "execution_count": 66,
   "id": "ef797d03-f21f-427b-992e-6e1e4588bf01",
   "metadata": {},
   "outputs": [
    {
     "name": "stderr",
     "output_type": "stream",
     "text": [
      "[nltk_data] Downloading package punkt to /home/tanmay/nltk_data...\n",
      "[nltk_data]   Unzipping tokenizers/punkt.zip.\n"
     ]
    },
    {
     "data": {
      "text/plain": [
       "True"
      ]
     },
     "execution_count": 66,
     "metadata": {},
     "output_type": "execute_result"
    }
   ],
   "source": [
    "from gensim.models.doc2vec import Doc2Vec, TaggedDocument\n",
    "from nltk.tokenize import word_tokenize\n",
    "import nltk\n",
    "nltk.download('punkt')"
   ]
  },
  {
   "cell_type": "code",
   "execution_count": null,
   "id": "9c5455d9-5640-4a88-8878-e8d33b81ad0b",
   "metadata": {},
   "outputs": [
    {
     "name": "stdout",
     "output_type": "stream",
     "text": [
      "[==================================================] 100.0% 128.1/128.1MB downloaded\n"
     ]
    }
   ],
   "source": [
    "from gensim.models import Doc2Vec\n",
    "from gensim.models.doc2vec import TaggedDocument\n",
    "from nltk.tokenize import word_tokenize\n",
    "import gensim.downloader as api\n",
    "import nltk\n",
    "\n",
    "def infer_sentence_embeddings(model, new_sentences):\n",
    "    \"\"\"\n",
    "    Infer embeddings for new sentences using a pre-trained Doc2Vec model.\n",
    "\n",
    "    Args:\n",
    "    - model (Doc2Vec): Pre-trained Doc2Vec model.\n",
    "    - new_sentences (list of str): List of new sentences to infer embeddings for.\n",
    "\n",
    "    Returns:\n",
    "    - embeddings (list of numpy arrays): List of inferred embeddings for the new sentences.\n",
    "    \"\"\"\n",
    "\n",
    "    embeddings = []\n",
    "    for sentence in new_sentences:\n",
    "        tokenized_sentence = word_tokenize(sentence.lower())\n",
    "        inferred_vector = model.infer_vector(tokenized_sentence)\n",
    "        embeddings.append(inferred_vector)\n",
    "\n",
    "    return embeddings\n",
    "\n",
    "# Download pre-trained Doc2Vec model\n",
    "model = api.load(\"glove-wiki-gigaword-100\")"
   ]
  },
  {
   "cell_type": "code",
   "execution_count": null,
   "id": "8f3ea5bd-fe18-44ba-9160-967e811ae135",
   "metadata": {},
   "outputs": [],
   "source": []
  }
 ],
 "metadata": {
  "kernelspec": {
   "display_name": "Python 3 (ipykernel)",
   "language": "python",
   "name": "python3"
  },
  "language_info": {
   "codemirror_mode": {
    "name": "ipython",
    "version": 3
   },
   "file_extension": ".py",
   "mimetype": "text/x-python",
   "name": "python",
   "nbconvert_exporter": "python",
   "pygments_lexer": "ipython3",
   "version": "3.10.12"
  }
 },
 "nbformat": 4,
 "nbformat_minor": 5
}
